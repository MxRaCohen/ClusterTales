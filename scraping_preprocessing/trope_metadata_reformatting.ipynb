{
 "cells": [
  {
   "cell_type": "markdown",
   "id": "3f29c5d7-19e4-4c38-bf91-871f9db2a732",
   "metadata": {},
   "source": [
    "# Trope Meta-Data Reformatting"
   ]
  },
  {
   "cell_type": "code",
   "execution_count": 65,
   "id": "94a7bfc0-e447-4219-88da-9eecce49d78d",
   "metadata": {},
   "outputs": [],
   "source": [
    "import numpy as np\n",
    "import pandas as pd\n",
    "pd.set_option('display.max_colwidth', None)\n",
    "import re\n",
    "import access\n",
    "import json"
   ]
  },
  {
   "cell_type": "code",
   "execution_count": 59,
   "id": "5c9c3097-7e5d-4eae-a061-25c827d08781",
   "metadata": {},
   "outputs": [],
   "source": [
    "with open('data/tropes_to_media.json') as data:\n",
    "    tropes_to_media_ids = json.load(data)"
   ]
  },
  {
   "cell_type": "code",
   "execution_count": 14,
   "id": "4abfcc15-2013-4bf9-a83c-2b863608b7e4",
   "metadata": {},
   "outputs": [],
   "source": [
    "tropes_description = pd.read_csv('data/tropes_description_raw.csv')\n",
    "tropes_description = tropes_description[['Trope', 'Description']]\n",
    "\n",
    "def get_name(name):\n",
    "    sep_str = re.findall(r'[A-Z](?:[a-z]+|[A-Z]*(?=[A-Z]|$))', name)\n",
    "    return \" \".join(sep_str)\n",
    "\n",
    "tropes_description['Trope'] = tropes_description['Trope'].apply(get_name)"
   ]
  },
  {
   "cell_type": "code",
   "execution_count": 66,
   "id": "10a1cef8-7775-4473-a894-4c293579bda3",
   "metadata": {},
   "outputs": [
    {
     "data": {
      "text/html": [
       "<div>\n",
       "<style scoped>\n",
       "    .dataframe tbody tr th:only-of-type {\n",
       "        vertical-align: middle;\n",
       "    }\n",
       "\n",
       "    .dataframe tbody tr th {\n",
       "        vertical-align: top;\n",
       "    }\n",
       "\n",
       "    .dataframe thead th {\n",
       "        text-align: right;\n",
       "    }\n",
       "</style>\n",
       "<table border=\"1\" class=\"dataframe\">\n",
       "  <thead>\n",
       "    <tr style=\"text-align: right;\">\n",
       "      <th></th>\n",
       "      <th>Trope</th>\n",
       "      <th>Description</th>\n",
       "    </tr>\n",
       "  </thead>\n",
       "  <tbody>\n",
       "    <tr>\n",
       "      <th>0</th>\n",
       "      <td>Abandoned Area</td>\n",
       "      <td>\\nAbandoned places make good settings for fiction. Normally seen in fiction that evokes types of horror, the concept of a place just being abandoned makes an unnerving feeling in the viewer. It also creates suspense and increases the surprise when it turns out that the place isn't really abandoned. The use of abandoned places as an aesthetic aid, as it normally is, often overlaps with Scenery Gorn. Depending on the state of the location, it may give a justified example of No OSHA Compliance, because, really, would you be bothered with health and safety in somewhere you've abandoned?\\nSub-tropes:\\nAlso see Never Recycle a Building. Beautiful Void is a related trope. Any of these can be Unexpectedly Abandoned. See also Bat Scare, which is frequently used in abandoned areas. When a part of a city has been so abandoned that even the police won't go in, you have The City Narrows. (Robert A. Heinlein used the term \"Abandoned Area\" in I Will Fear No Evil to refer to that part of a city.)\\n</td>\n",
       "    </tr>\n",
       "    <tr>\n",
       "      <th>1</th>\n",
       "      <td>Abandoned Catchphrase</td>\n",
       "      <td>Catchphrases are a great and simple way to help a character's image. But sometimes, catchphrases don't stick. Perhaps the writers were experimenting with one early on, but eventually decided against it. Or perhaps a catchphrase was done to death and is no longer funny. Or sometimes, a character simply evolves and the catchphrase no longer fits the character.\\nWhatever the reason, this trope is whenever an early catchphrase is dropped or becomes used seldom. This is a catchphrase specific sub-trope of Early Installment Weirdness, and frequently a result of Characterization Marches On and Character Development. The closest inverse to this would be Flanderization (wherein a character's catchphrase acts as a quirk that takes over their personality). Unrelated to Subverted Catch Phrase.\\n</td>\n",
       "    </tr>\n",
       "    <tr>\n",
       "      <th>2</th>\n",
       "      <td>Abandoned Hospital</td>\n",
       "      <td>The creepy abandoned hospital/mental institution is a common setting in horror. Dirty tiles, broken cabinets, corpses in bloodstained lab coats/nurse uniforms, and rusted metal bed frames are all common themes. Other themes include grisly medical experiments and deformed, inhuman monsters shambling about, as well as using medical equipment as torture devices.\\nEven without all these things, hospitals are pretty creepy to begin with. Maybe because hospitals are associated with illness and death, as well as being places that should be clean. Or perhaps it's because most people are afraid of hospitals for several reasons: germs; the stale, blaring white atmosphere; doctors poking and prodding you with weird and often painful instruments... not to mention the needles... There's also the fact that, despite every attempt to prevent it by the staff, a good amount of death inevitably happens at a hospital, which doesn't help to assuage any creepiness. On top of all that, a hospital is likely one of the last places to be abandoned in a crisis, since you would need to treat the wounded and sick even more during an emergency. If even the hospitals have been abandoned, things may have really gone south.\\nMany older, real life 'abandoned hospitals' in the U.S were properly called \"sanitariums,\" and have probably contributed to the trope imagery. Their abandonment was sometimes related to loss of funding or new prohibitively expensive fixing due to new government regulations. Often the places were created to treat specific diseases at the time that were eventually locally eradicated (TB clinics in particular) without any later re-purposing of the structures. In popular fiction, sanatoriums also tend to get mixed up with sanitariums, which can lead to conflation of physical and mental illnesses. As for the mental sanitariums, the enduring image of the ominous, Arkham-esque Gothic building sprawled out on a hill was in large part due to Dr. Thomas Kirkbride (1809-1883), who spearheaded a revolution in ethical treatment of mental patients. He insisted that mental institutions should be restful places, with large and rambling rooms and corridors, airy high ceilings and windows, and large outside grounds for the patients to roam and get their exercise (he probably did not insist on Gothic architecture, but that was how most buildings were built back then). Unfortunately, most of the Kirkbride buildings turned out to be much too expensive to maintain and renovate to be compatible with new medical technology, which resulted in a lot of them being abandoned.\\nIt would make sense for the owners of the abandoned hospital to sell off everything of value, and maybe dismantle part of what's left for scrap metal and glass. Or some poor petty thieves will scavenge anything recyclable that's left. So the abandoned hospital should look more like an abandoned and crumbling block of flats.\\nSee also Abandoned Warehouse and Never Recycle a Building. When a character wakes up in a newly-abandoned hospital, that's an Abandoned Hospital Awakening.\\n</td>\n",
       "    </tr>\n",
       "    <tr>\n",
       "      <th>3</th>\n",
       "      <td>Abandoned Hospital Awakening</td>\n",
       "      <td>An Abandoned Hospital Awakening is, as the name implies, when a character wakes up in an Abandoned Hospital. A combination of several different things in a single convenient package, an abandoned hospital awakening is a popular choice for beginning Horror works, though it shows up in other genres and contexts as well. The hospital used for this has usually been recently abandoned after a disaster of some sort, which helps explain why the character was there in the first place (though not necessarily why they were left behind).\\nAbandoned hospitals are creepy, which sets the tone by itself, but the addition of specific types of Scenery Gorn can ratchet that tension up even further. At the same time, it gives the characters (and the audience) a clue as to why the hospital was abandoned in the first place. Being in a Convenient Coma while the disaster was happening gives them an excuse to be Late to the Tragedy (in some cases finding they have Slept Through the Apocalypse), making them a Naïve Newcomer until they figure things out. If they don't remember why they were in the hospital in the first place, then you've got an Ontological Mystery on your hands in addition to dealing with more immediate problems.\\nEspecially popular during a Zombie Apocalypse, for some reason. See Abandoned Hospital for the supertrope. See Waking Up Elsewhere in general.\\n</td>\n",
       "    </tr>\n",
       "    <tr>\n",
       "      <th>4</th>\n",
       "      <td>Abandoned Info Page</td>\n",
       "      <td>When a work is getting more and more complicated, getting the audience up to speed is crucial to keep their attention. It's also a quick refresher of what the work is about in the first place. This is especially helpful if there are Loads and Loads of Characters and complex storylines.\\nHowever, the creator does not always have time on hand to update these sources, leading to incomplete and out of date facts. This can result in information that's rendered irrelevant to the later storyline or answers questions that have become completely moot.\\nIn the end, any info is better than no info, but up to date information the best of all. Sometimes the work itself is updated just as slowly, giving a very valid reason why the surrounding information is out of date.\\n</td>\n",
       "    </tr>\n",
       "  </tbody>\n",
       "</table>\n",
       "</div>"
      ],
      "text/plain": [
       "                          Trope  \\\n",
       "0                Abandoned Area   \n",
       "1         Abandoned Catchphrase   \n",
       "2            Abandoned Hospital   \n",
       "3  Abandoned Hospital Awakening   \n",
       "4           Abandoned Info Page   \n",
       "\n",
       "                                                                                                                                                                                                                                                                                                                                                                                                                                                                                                                                                                                                                                                                                                                                                                                                                                                                                                                                                                                                                                                                                                                                                                                                                                                                                                                                                                                                                                                                                                                                                                                                                                                                                                                                                                                                                                                                                                                                                                                                                                                                                                                                                                                                                                                                                                                                                                                                                                                                                                                                                                                                                                                                                                                                                                                                                                                                                                                                                                                                                                                                                                                                                                                    Description  \n",
       "0                                                                                                                                                                                                                                                                                                                                                                                                                                                                                                                                                                                                                                                                                                                                                                                                                                                                                                                                                                                                                                                                                                                                                                                                                                                                                                                                                                                                                                                                                                                                                                                                                                                                                                                                                                                                                                                                                                                                                                                                                                                                                                                                                         \\nAbandoned places make good settings for fiction. Normally seen in fiction that evokes types of horror, the concept of a place just being abandoned makes an unnerving feeling in the viewer. It also creates suspense and increases the surprise when it turns out that the place isn't really abandoned. The use of abandoned places as an aesthetic aid, as it normally is, often overlaps with Scenery Gorn. Depending on the state of the location, it may give a justified example of No OSHA Compliance, because, really, would you be bothered with health and safety in somewhere you've abandoned?\\nSub-tropes:\\nAlso see Never Recycle a Building. Beautiful Void is a related trope. Any of these can be Unexpectedly Abandoned. See also Bat Scare, which is frequently used in abandoned areas. When a part of a city has been so abandoned that even the police won't go in, you have The City Narrows. (Robert A. Heinlein used the term \"Abandoned Area\" in I Will Fear No Evil to refer to that part of a city.)\\n  \n",
       "1                                                                                                                                                                                                                                                                                                                                                                                                                                                                                                                                                                                                                                                                                                                                                                                                                                                                                                                                                                                                                                                                                                                                                                                                                                                                                                                                                                                                                                                                                                                                                                                                                                                                                                                                                                                                                                                                                                                                                                                                                                                                                                                                                                                                                                                                                                                                                                    Catchphrases are a great and simple way to help a character's image. But sometimes, catchphrases don't stick. Perhaps the writers were experimenting with one early on, but eventually decided against it. Or perhaps a catchphrase was done to death and is no longer funny. Or sometimes, a character simply evolves and the catchphrase no longer fits the character.\\nWhatever the reason, this trope is whenever an early catchphrase is dropped or becomes used seldom. This is a catchphrase specific sub-trope of Early Installment Weirdness, and frequently a result of Characterization Marches On and Character Development. The closest inverse to this would be Flanderization (wherein a character's catchphrase acts as a quirk that takes over their personality). Unrelated to Subverted Catch Phrase.\\n  \n",
       "2  The creepy abandoned hospital/mental institution is a common setting in horror. Dirty tiles, broken cabinets, corpses in bloodstained lab coats/nurse uniforms, and rusted metal bed frames are all common themes. Other themes include grisly medical experiments and deformed, inhuman monsters shambling about, as well as using medical equipment as torture devices.\\nEven without all these things, hospitals are pretty creepy to begin with. Maybe because hospitals are associated with illness and death, as well as being places that should be clean. Or perhaps it's because most people are afraid of hospitals for several reasons: germs; the stale, blaring white atmosphere; doctors poking and prodding you with weird and often painful instruments... not to mention the needles... There's also the fact that, despite every attempt to prevent it by the staff, a good amount of death inevitably happens at a hospital, which doesn't help to assuage any creepiness. On top of all that, a hospital is likely one of the last places to be abandoned in a crisis, since you would need to treat the wounded and sick even more during an emergency. If even the hospitals have been abandoned, things may have really gone south.\\nMany older, real life 'abandoned hospitals' in the U.S were properly called \"sanitariums,\" and have probably contributed to the trope imagery. Their abandonment was sometimes related to loss of funding or new prohibitively expensive fixing due to new government regulations. Often the places were created to treat specific diseases at the time that were eventually locally eradicated (TB clinics in particular) without any later re-purposing of the structures. In popular fiction, sanatoriums also tend to get mixed up with sanitariums, which can lead to conflation of physical and mental illnesses. As for the mental sanitariums, the enduring image of the ominous, Arkham-esque Gothic building sprawled out on a hill was in large part due to Dr. Thomas Kirkbride (1809-1883), who spearheaded a revolution in ethical treatment of mental patients. He insisted that mental institutions should be restful places, with large and rambling rooms and corridors, airy high ceilings and windows, and large outside grounds for the patients to roam and get their exercise (he probably did not insist on Gothic architecture, but that was how most buildings were built back then). Unfortunately, most of the Kirkbride buildings turned out to be much too expensive to maintain and renovate to be compatible with new medical technology, which resulted in a lot of them being abandoned.\\nIt would make sense for the owners of the abandoned hospital to sell off everything of value, and maybe dismantle part of what's left for scrap metal and glass. Or some poor petty thieves will scavenge anything recyclable that's left. So the abandoned hospital should look more like an abandoned and crumbling block of flats.\\nSee also Abandoned Warehouse and Never Recycle a Building. When a character wakes up in a newly-abandoned hospital, that's an Abandoned Hospital Awakening.\\n  \n",
       "3                                                                                                                                                                                                                                                                                                                                                                                                                                                                                                                                                                                                                                                                                                                                                                                                                                                                                                                                                                                                                                                                                                                                                                                                                                                                                                                                                                                                                                                                                                                                                                                                                                                                                                                                                                     An Abandoned Hospital Awakening is, as the name implies, when a character wakes up in an Abandoned Hospital. A combination of several different things in a single convenient package, an abandoned hospital awakening is a popular choice for beginning Horror works, though it shows up in other genres and contexts as well. The hospital used for this has usually been recently abandoned after a disaster of some sort, which helps explain why the character was there in the first place (though not necessarily why they were left behind).\\nAbandoned hospitals are creepy, which sets the tone by itself, but the addition of specific types of Scenery Gorn can ratchet that tension up even further. At the same time, it gives the characters (and the audience) a clue as to why the hospital was abandoned in the first place. Being in a Convenient Coma while the disaster was happening gives them an excuse to be Late to the Tragedy (in some cases finding they have Slept Through the Apocalypse), making them a Naïve Newcomer until they figure things out. If they don't remember why they were in the hospital in the first place, then you've got an Ontological Mystery on your hands in addition to dealing with more immediate problems.\\nEspecially popular during a Zombie Apocalypse, for some reason. See Abandoned Hospital for the supertrope. See Waking Up Elsewhere in general.\\n  \n",
       "4                                                                                                                                                                                                                                                                                                                                                                                                                                                                                                                                                                                                                                                                                                                                                                                                                                                                                                                                                                                                                                                                                                                                                                                                                                                                                                                                                                                                                                                                                                                                                                                                                                                                                                                                                                                                                                                                                                                                                                                                                                                                                                                                                                                                                                                                                                                                                                                              When a work is getting more and more complicated, getting the audience up to speed is crucial to keep their attention. It's also a quick refresher of what the work is about in the first place. This is especially helpful if there are Loads and Loads of Characters and complex storylines.\\nHowever, the creator does not always have time on hand to update these sources, leading to incomplete and out of date facts. This can result in information that's rendered irrelevant to the later storyline or answers questions that have become completely moot.\\nIn the end, any info is better than no info, but up to date information the best of all. Sometimes the work itself is updated just as slowly, giving a very valid reason why the surrounding information is out of date.\\n  "
      ]
     },
     "execution_count": 66,
     "metadata": {},
     "output_type": "execute_result"
    }
   ],
   "source": [
    "tropes_description.head()"
   ]
  },
  {
   "cell_type": "code",
   "execution_count": 3,
   "id": "8c75436f-7b0a-4804-aa31-7fefc13e47be",
   "metadata": {},
   "outputs": [],
   "source": [
    "media_trope_examples = pd.read_csv('data/trope_examples.csv')"
   ]
  },
  {
   "cell_type": "code",
   "execution_count": 67,
   "id": "5fd00d9b-3c2d-4c31-bd49-65029165c4ca",
   "metadata": {},
   "outputs": [
    {
     "data": {
      "text/html": [
       "<div>\n",
       "<style scoped>\n",
       "    .dataframe tbody tr th:only-of-type {\n",
       "        vertical-align: middle;\n",
       "    }\n",
       "\n",
       "    .dataframe tbody tr th {\n",
       "        vertical-align: top;\n",
       "    }\n",
       "\n",
       "    .dataframe thead th {\n",
       "        text-align: right;\n",
       "    }\n",
       "</style>\n",
       "<table border=\"1\" class=\"dataframe\">\n",
       "  <thead>\n",
       "    <tr style=\"text-align: right;\">\n",
       "      <th></th>\n",
       "      <th>Unnamed: 0</th>\n",
       "      <th>Title</th>\n",
       "      <th>Trope</th>\n",
       "      <th>Example</th>\n",
       "      <th>CleanTitle</th>\n",
       "      <th>tconst</th>\n",
       "    </tr>\n",
       "  </thead>\n",
       "  <tbody>\n",
       "    <tr>\n",
       "      <th>0</th>\n",
       "      <td>0</td>\n",
       "      <td>ABBATheMovie</td>\n",
       "      <td>Ms Fanservice</td>\n",
       "      <td>The concert segments make it clear that Agnetha and Frida's looks play a big part of the band's act; the \"Get on the Carousel\"/\"I'm a Marionette\" segment has them in form-fitting leotards that have them cut very shapely figures, and Frida at points also wears very short shorts (such as in one performance of \"Why Did It Have to Be Me?\"), leading to some sensationalist headlines hoping for a  Wardrobe Malfunction . And that's not even counting the repeated mentions about Agnetha's bottom.</td>\n",
       "      <td>abbathemovie</td>\n",
       "      <td>tt0075617</td>\n",
       "    </tr>\n",
       "    <tr>\n",
       "      <th>1</th>\n",
       "      <td>1</td>\n",
       "      <td>ABBATheMovie</td>\n",
       "      <td>Insistent Terminology</td>\n",
       "      <td>The radio station manager that tasks Ashley with delivering an interview with the band insists that it's not an interview, it's a  dialogue , and when Ashley asks if he wants him to do a documentary, he says that it's not a documentary, it's an  event .</td>\n",
       "      <td>abbathemovie</td>\n",
       "      <td>tt0075617</td>\n",
       "    </tr>\n",
       "    <tr>\n",
       "      <th>2</th>\n",
       "      <td>2</td>\n",
       "      <td>ABBATheMovie</td>\n",
       "      <td>The Ingenue</td>\n",
       "      <td>A rare male example; when Benny reads one newspaper reporting about the band asking for a \"kinky bed\", he ask what \"kinky\" means. Then again, this could also be because English isn't his native language.</td>\n",
       "      <td>abbathemovie</td>\n",
       "      <td>tt0075617</td>\n",
       "    </tr>\n",
       "    <tr>\n",
       "      <th>3</th>\n",
       "      <td>3</td>\n",
       "      <td>ABBATheMovie</td>\n",
       "      <td>Getting Crap Past The Radar</td>\n",
       "      <td>During Ashley's fantasy sequence in which he imagines Agnetha and Frida being in love with him, at one point Agnetha and Frida are both draped over him in an  Almost Kiss  before it cuts away to another scene, which  really  looks like it's  cutting away  from a  threesome .</td>\n",
       "      <td>abbathemovie</td>\n",
       "      <td>tt0075617</td>\n",
       "    </tr>\n",
       "    <tr>\n",
       "      <th>4</th>\n",
       "      <td>4</td>\n",
       "      <td>ABBATheMovie</td>\n",
       "      <td>Who Wears Short Shorts</td>\n",
       "      <td>Frida's outfit in the \"Why Did It Have to Be Me?\" number has her in white shorts.</td>\n",
       "      <td>abbathemovie</td>\n",
       "      <td>tt0075617</td>\n",
       "    </tr>\n",
       "  </tbody>\n",
       "</table>\n",
       "</div>"
      ],
      "text/plain": [
       "   Unnamed: 0         Title                        Trope  \\\n",
       "0           0  ABBATheMovie                Ms Fanservice   \n",
       "1           1  ABBATheMovie        Insistent Terminology   \n",
       "2           2  ABBATheMovie                  The Ingenue   \n",
       "3           3  ABBATheMovie  Getting Crap Past The Radar   \n",
       "4           4  ABBATheMovie       Who Wears Short Shorts   \n",
       "\n",
       "                                                                                                                                                                                                                                                                                                                                                                                                                                                                                                        Example  \\\n",
       "0   The concert segments make it clear that Agnetha and Frida's looks play a big part of the band's act; the \"Get on the Carousel\"/\"I'm a Marionette\" segment has them in form-fitting leotards that have them cut very shapely figures, and Frida at points also wears very short shorts (such as in one performance of \"Why Did It Have to Be Me?\"), leading to some sensationalist headlines hoping for a  Wardrobe Malfunction . And that's not even counting the repeated mentions about Agnetha's bottom.   \n",
       "1                                                                                                                                                                                                                                                 The radio station manager that tasks Ashley with delivering an interview with the band insists that it's not an interview, it's a  dialogue , and when Ashley asks if he wants him to do a documentary, he says that it's not a documentary, it's an  event .   \n",
       "2                                                                                                                                                                                                                                                                                                   A rare male example; when Benny reads one newspaper reporting about the band asking for a \"kinky bed\", he ask what \"kinky\" means. Then again, this could also be because English isn't his native language.   \n",
       "3                                                                                                                                                                                                                           During Ashley's fantasy sequence in which he imagines Agnetha and Frida being in love with him, at one point Agnetha and Frida are both draped over him in an  Almost Kiss  before it cuts away to another scene, which  really  looks like it's  cutting away  from a  threesome .   \n",
       "4                                                                                                                                                                                                                                                                                                                                                                                                                             Frida's outfit in the \"Why Did It Have to Be Me?\" number has her in white shorts.   \n",
       "\n",
       "     CleanTitle     tconst  \n",
       "0  abbathemovie  tt0075617  \n",
       "1  abbathemovie  tt0075617  \n",
       "2  abbathemovie  tt0075617  \n",
       "3  abbathemovie  tt0075617  \n",
       "4  abbathemovie  tt0075617  "
      ]
     },
     "execution_count": 67,
     "metadata": {},
     "output_type": "execute_result"
    }
   ],
   "source": [
    "media_trope_examples.head()"
   ]
  },
  {
   "cell_type": "code",
   "execution_count": 5,
   "id": "99c77268-3e29-4cd4-970a-6a426191db4a",
   "metadata": {},
   "outputs": [
    {
     "name": "stderr",
     "output_type": "stream",
     "text": [
      "/var/folders/g0/7pgly2hx5fd9nkyd5x740m0w0000gn/T/ipykernel_15096/3017165525.py:1: DtypeWarning: Columns (1,2,3,4) have mixed types. Specify dtype option on import or set low_memory=False.\n",
      "  raw_trope_list = pd.read_csv('data/tropes.csv')\n"
     ]
    }
   ],
   "source": [
    "raw_trope_list = pd.read_csv('data/tropes.csv')\n",
    "node_list = raw_trope_list.iloc[:29024,]\n",
    "url_list = node_list[['name', 'url']]"
   ]
  },
  {
   "cell_type": "code",
   "execution_count": 68,
   "id": "7b030b91-86f1-4e08-9527-881344ae3e64",
   "metadata": {},
   "outputs": [
    {
     "data": {
      "text/html": [
       "<div>\n",
       "<style scoped>\n",
       "    .dataframe tbody tr th:only-of-type {\n",
       "        vertical-align: middle;\n",
       "    }\n",
       "\n",
       "    .dataframe tbody tr th {\n",
       "        vertical-align: top;\n",
       "    }\n",
       "\n",
       "    .dataframe thead th {\n",
       "        text-align: right;\n",
       "    }\n",
       "</style>\n",
       "<table border=\"1\" class=\"dataframe\">\n",
       "  <thead>\n",
       "    <tr style=\"text-align: right;\">\n",
       "      <th></th>\n",
       "      <th>name</th>\n",
       "      <th>url</th>\n",
       "    </tr>\n",
       "  </thead>\n",
       "  <tbody>\n",
       "    <tr>\n",
       "      <th>0</th>\n",
       "      <td>Attractiveness Discrimination</td>\n",
       "      <td>pmwiki/pmwiki.php/Main/AttractivenessDiscrimination</td>\n",
       "    </tr>\n",
       "    <tr>\n",
       "      <th>1</th>\n",
       "      <td>Attractiveness Isolation</td>\n",
       "      <td>pmwiki/pmwiki.php/Main/AttractivenessIsolation</td>\n",
       "    </tr>\n",
       "    <tr>\n",
       "      <th>2</th>\n",
       "      <td>Attractive Zombie</td>\n",
       "      <td>pmwiki/pmwiki.php/Main/AttractiveZombie</td>\n",
       "    </tr>\n",
       "    <tr>\n",
       "      <th>3</th>\n",
       "      <td>Aardvark Trunks</td>\n",
       "      <td>pmwiki/pmwiki.php/Main/AardvarkTrunks</td>\n",
       "    </tr>\n",
       "    <tr>\n",
       "      <th>4</th>\n",
       "      <td>Abandoned Area</td>\n",
       "      <td>pmwiki/pmwiki.php/Main/AbandonedArea</td>\n",
       "    </tr>\n",
       "  </tbody>\n",
       "</table>\n",
       "</div>"
      ],
      "text/plain": [
       "                            name  \\\n",
       "0  Attractiveness Discrimination   \n",
       "1       Attractiveness Isolation   \n",
       "2              Attractive Zombie   \n",
       "3                Aardvark Trunks   \n",
       "4                 Abandoned Area   \n",
       "\n",
       "                                                   url  \n",
       "0  pmwiki/pmwiki.php/Main/AttractivenessDiscrimination  \n",
       "1       pmwiki/pmwiki.php/Main/AttractivenessIsolation  \n",
       "2              pmwiki/pmwiki.php/Main/AttractiveZombie  \n",
       "3                pmwiki/pmwiki.php/Main/AardvarkTrunks  \n",
       "4                 pmwiki/pmwiki.php/Main/AbandonedArea  "
      ]
     },
     "execution_count": 68,
     "metadata": {},
     "output_type": "execute_result"
    }
   ],
   "source": [
    "url_list.head()"
   ]
  },
  {
   "cell_type": "code",
   "execution_count": 8,
   "id": "42076b58-a5ac-4a6e-8659-619ce289c578",
   "metadata": {},
   "outputs": [],
   "source": [
    "BASE_URL = 'https://tvtropes.org/'"
   ]
  },
  {
   "cell_type": "markdown",
   "id": "fc93c44e-664d-413f-b0c0-732c3ec68993",
   "metadata": {},
   "source": [
    "For every trope, we want the url, the description, and examples catalogued by imdb id or 'tconst'."
   ]
  },
  {
   "cell_type": "code",
   "execution_count": 54,
   "id": "086f3655-2de8-4183-a824-712b6928ec93",
   "metadata": {},
   "outputs": [],
   "source": [
    "def get_url(trope):\n",
    "    if url_list[url_list['name'] == trope].empty:\n",
    "        return 'https://tvtropes.org/pmwiki/pmwiki.php/Main/' + ''.join(trope.split())\n",
    "    return BASE_URL + url_list[url_list['name'] == trope]['url'].to_string(index=False)"
   ]
  },
  {
   "cell_type": "code",
   "execution_count": 57,
   "id": "98b93cdb-0131-41dd-83a8-1f0e251af877",
   "metadata": {},
   "outputs": [
    {
     "data": {
      "text/plain": [
       "'https://tvtropes.org/pmwiki/pmwiki.php/Main/AttractiveZombie'"
      ]
     },
     "execution_count": 57,
     "metadata": {},
     "output_type": "execute_result"
    }
   ],
   "source": [
    "get_url('Attractive Zombie')"
   ]
  },
  {
   "cell_type": "code",
   "execution_count": 72,
   "id": "feb978b2-b6c4-451d-88c9-9f16c5dc93f6",
   "metadata": {},
   "outputs": [],
   "source": [
    "def get_description(trope):\n",
    "    raw_description = tropes_description[tropes_description['Trope'] == trope]['Description'].to_string(index=False)\n",
    "    description = raw_description.replace('\\\\n', '  \\n')\n",
    "    return description"
   ]
  },
  {
   "cell_type": "code",
   "execution_count": 73,
   "id": "9ab6c73a-351d-46c9-b7c2-86a780772dd6",
   "metadata": {},
   "outputs": [
    {
     "data": {
      "text/plain": [
       "'  \\nLike ghosts and vampires who were only recently romanticised and portrayed as humanlike in many aspects, zombies were traditionally depicted as ugly, mindless and carnivorous. The reason for this lies in the concept of zombie originating from Caribbean voodoo, in which they were corpses reanimated by a magician and subjected to his will, devoid of their own will and personality. Moreover, the idea of a zombie horde threatening the existence of human civilization is rooted in the European colonists\\' perception of the Haitian revolution; therefore the modern zombie genre cliches have colonial origins.  \\nHowever, since the late 1990s zombies have increasingly been seen as not so much different from humans, and even as sexual figures. Nowadays, the depiction of a zombie as sentient, humane and seeking equality with humans is a frequent metaphor for real-life discriminated groups and for the de-objectification of them; to amplify the effect, he or she may be portrayed as physically attractive and sometimes even in a romantic relationship with a human. Another source of this trope is the old legends and Gothic fantasies about undead beauties, which have been reimagined in the light of modern zombie lore.  \\nSuch a character may have nonconformist and taboo-breaking overtones (sometimes sexually nonconformist), since zombies are seen as subject to wild desires and free of social conventions. Their attitude to their undead status may vary: some of them dream of becoming human or of resting in peace, while others are perfectly happy being the way they are, and find advantages in it.  \\nMost of these characters discard the conventions of zombie lore settled by George Romero (since eating flesh and brains is just somehow... unromantic and not sexy), instead appealing to older undead archetypes, like Voodoo Zombies, Revenant Zombies, and the aforementioned undead beauties from Gothic-era stories. In the most general sense, \"zombie\" may apply to any living dead creature that is not incorporeal, does not drink blood, and is not wrapped in bandages.  \\nThis trope only applies when the said zombie is described as attractive and/or as a romantic interest to humans in-universe.  \\nSister Trope to Seductive Mummy and Cute Ghost Girl, and frequently overlaps with Boy Meets Ghoul. Compare with Vampires Are Sex Gods, Horny Devils, Cute Monster Girl, You Sexy Beast, Incongruously Dressed Zombie. Often overlaps with Friendly Zombie, due to Beauty = Goodness, and Revenant Zombie, due to the fact that such characters often retain the personality they had in life.  \\nFor more examples of this trope, check out a thematic page on The Other Wiki.  \\n'"
      ]
     },
     "execution_count": 73,
     "metadata": {},
     "output_type": "execute_result"
    }
   ],
   "source": [
    "get_description('Attractive Zombie')"
   ]
  },
  {
   "cell_type": "code",
   "execution_count": 85,
   "id": "a3ce32bb-2879-4e2d-84fa-224e614acbe3",
   "metadata": {},
   "outputs": [],
   "source": [
    "def preprocess_examples():\n",
    "    examples = dict()\n",
    "    for i in range(media_trope_examples.shape[0]):\n",
    "        row = media_trope_examples.iloc[i,:]\n",
    "        try:\n",
    "            examples[row['Trope']][row['tconst']] = row['Example']\n",
    "        except:\n",
    "            examples[row['Trope']] = dict()\n",
    "            examples[row['Trope']][row['tconst']] = row['Example']\n",
    "    return examples"
   ]
  },
  {
   "cell_type": "code",
   "execution_count": 86,
   "id": "af65e302-de7f-467d-ad05-b258ddf11056",
   "metadata": {},
   "outputs": [],
   "source": [
    "media_trope_examples_dict = preprocess_examples()"
   ]
  },
  {
   "cell_type": "code",
   "execution_count": 92,
   "id": "250d667e-bb10-4d52-99e5-6cf30ca30e97",
   "metadata": {},
   "outputs": [],
   "source": [
    "def get_examples(trope):\n",
    "    examples = dict()\n",
    "    for id_ in tropes_to_media_ids[trope]:\n",
    "        raw_example = media_trope_examples_dict[trope][id_]\n",
    "        example = str(raw_example).replace('\\\\n', '  \\n')\n",
    "        examples[id_] = example\n",
    "    return examples"
   ]
  },
  {
   "cell_type": "code",
   "execution_count": 93,
   "id": "821eb541-0e02-4ede-af22-bd8e481cc1ce",
   "metadata": {},
   "outputs": [
    {
     "data": {
      "text/plain": [
       "{'tt0363547': ' One of the DVD extras in Dawn of the Dead (2004) is a fake news broadcast containing, among other things, a video of some high schoolers taunting a young female zombie wearing nothing but a football helmet, Black Bra and Panties. One of the guys can be heard saying \"look at those melons\" and that \"she is the hottest girl in the school.\"\\n',\n",
       " 'tt0104070': \" The female leads in Death Becomes Her (played by Meryl Streep and Goldie Hawn) may not technically be zombies, but they're pretty close: they've taken an immortality potion and then suffered a mortal wound. Their bodies are no longer living (so they can't heal from any damage they take), but the potion won't let them actually die. At least initially they're still reasonably attractive, though by the end of the movie they've had to resort to extensive use of cosmetics and despite having had a long time to practice they're not very good at it.\\n\",\n",
       " 'tt0457572': \" Tammy in Fido, although she's kept like that deliberately by his owner, in a world where zombies are kept as slaves, you can imagine why.\\n\",\n",
       " 'tt0099611': ' Frankenhooker puts a raunchier spin on this, with a medical student who resurrects his dead fianc by building her a body assembled from local streetwalkers.\\n',\n",
       " 'tt0418819': ' \"Number 9\"...somewhat.',\n",
       " 'tt2581244': \" Beth (Aubrey Plaza) in Life After Beth a film about a guy's girlfriend returning from the dead.\\n\",\n",
       " 'tt0089907': ' The Return of the Living Dead series:\\n In the original film, the Ms. Fanservice punk chick Trash (played by Linnea Quigley) gets killed and zombified halfway in. Upon her resurrection, a homeless man winds up Distracted by the Sexy when he sees the naked zombie Trash walk out of the graveyard... at least, until she\\'s close enough that the fog and darkness no longer obscure her Nightmare Face.\\n Julie (played by Melinda Clarke) in Return of the Living Dead 3 remains as attractive as when she was alive (albeit turning more \"dominatrix-like\") as the love story is crucial to the plot. Even prompting a rape attempt from one of the villains.\\n',\n",
       " 'tt1588173': \" The male protagonist of Warm Bodies, who falls in love with a human girl after eating her ex-boyfriend's brain.\\n\",\n",
       " 'tt6878820': ' The Disney Channel Original Movie Z-O-M-B-I-E-S is all about this trope. The main characters are Zed, a zombie, and Addison, a human, who are a couple.\\n',\n",
       " 'tt3501584': \" On iZombie, zombies in general (as long as they're able to eat enough brains to sustain themselves) look like ordinary people with pale skin and hair. Most choose to disguise themselves with cosmetics. Liv doesn't, but once she gets over being a zombie, it hasn't really affected her dating life (beyond having to take extra precautions to prevent infecting human partners, although she mostly dates other zombies); one of her boyfriends tells her she pulls off the zombie look.\\n\",\n",
       " 'tt2480514': ' The PDS sufferers who were attractive in life more or less retain their looks.',\n",
       " 'tt0925266': ' In Pushing Daisies, the protagonist magically brings his dead girlfriend back to life; she remains as beautiful as she was in life, but it is strongly implied that she\\'s now a Revenant Zombie rather than human (she doesn\\'t age, calls herself \"dead\" on several occasions, and is referred to as \"dead girl\" by several other characters).\\n'}"
      ]
     },
     "execution_count": 93,
     "metadata": {},
     "output_type": "execute_result"
    }
   ],
   "source": [
    "get_examples('Attractive Zombie')"
   ]
  },
  {
   "cell_type": "code",
   "execution_count": 94,
   "id": "c3cd9022-c10d-493a-8689-3a4f9c47ccd8",
   "metadata": {},
   "outputs": [],
   "source": [
    "def get_all_info(trope):\n",
    "    result = dict()\n",
    "    result['url'] = get_url(trope)\n",
    "    result['description'] = get_description(trope)\n",
    "    result['examples'] = get_examples(trope)\n",
    "    return result"
   ]
  },
  {
   "cell_type": "code",
   "execution_count": 95,
   "id": "1046ac65-75e3-473b-899f-b6145378acb3",
   "metadata": {},
   "outputs": [
    {
     "data": {
      "text/plain": [
       "{'url': 'https://tvtropes.org/pmwiki/pmwiki.php/Main/AttractiveZombie',\n",
       " 'description': '  \\nLike ghosts and vampires who were only recently romanticised and portrayed as humanlike in many aspects, zombies were traditionally depicted as ugly, mindless and carnivorous. The reason for this lies in the concept of zombie originating from Caribbean voodoo, in which they were corpses reanimated by a magician and subjected to his will, devoid of their own will and personality. Moreover, the idea of a zombie horde threatening the existence of human civilization is rooted in the European colonists\\' perception of the Haitian revolution; therefore the modern zombie genre cliches have colonial origins.  \\nHowever, since the late 1990s zombies have increasingly been seen as not so much different from humans, and even as sexual figures. Nowadays, the depiction of a zombie as sentient, humane and seeking equality with humans is a frequent metaphor for real-life discriminated groups and for the de-objectification of them; to amplify the effect, he or she may be portrayed as physically attractive and sometimes even in a romantic relationship with a human. Another source of this trope is the old legends and Gothic fantasies about undead beauties, which have been reimagined in the light of modern zombie lore.  \\nSuch a character may have nonconformist and taboo-breaking overtones (sometimes sexually nonconformist), since zombies are seen as subject to wild desires and free of social conventions. Their attitude to their undead status may vary: some of them dream of becoming human or of resting in peace, while others are perfectly happy being the way they are, and find advantages in it.  \\nMost of these characters discard the conventions of zombie lore settled by George Romero (since eating flesh and brains is just somehow... unromantic and not sexy), instead appealing to older undead archetypes, like Voodoo Zombies, Revenant Zombies, and the aforementioned undead beauties from Gothic-era stories. In the most general sense, \"zombie\" may apply to any living dead creature that is not incorporeal, does not drink blood, and is not wrapped in bandages.  \\nThis trope only applies when the said zombie is described as attractive and/or as a romantic interest to humans in-universe.  \\nSister Trope to Seductive Mummy and Cute Ghost Girl, and frequently overlaps with Boy Meets Ghoul. Compare with Vampires Are Sex Gods, Horny Devils, Cute Monster Girl, You Sexy Beast, Incongruously Dressed Zombie. Often overlaps with Friendly Zombie, due to Beauty = Goodness, and Revenant Zombie, due to the fact that such characters often retain the personality they had in life.  \\nFor more examples of this trope, check out a thematic page on The Other Wiki.  \\n',\n",
       " 'examples': {'tt0363547': ' One of the DVD extras in Dawn of the Dead (2004) is a fake news broadcast containing, among other things, a video of some high schoolers taunting a young female zombie wearing nothing but a football helmet, Black Bra and Panties. One of the guys can be heard saying \"look at those melons\" and that \"she is the hottest girl in the school.\"\\n',\n",
       "  'tt0104070': \" The female leads in Death Becomes Her (played by Meryl Streep and Goldie Hawn) may not technically be zombies, but they're pretty close: they've taken an immortality potion and then suffered a mortal wound. Their bodies are no longer living (so they can't heal from any damage they take), but the potion won't let them actually die. At least initially they're still reasonably attractive, though by the end of the movie they've had to resort to extensive use of cosmetics and despite having had a long time to practice they're not very good at it.\\n\",\n",
       "  'tt0457572': \" Tammy in Fido, although she's kept like that deliberately by his owner, in a world where zombies are kept as slaves, you can imagine why.\\n\",\n",
       "  'tt0099611': ' Frankenhooker puts a raunchier spin on this, with a medical student who resurrects his dead fianc by building her a body assembled from local streetwalkers.\\n',\n",
       "  'tt0418819': ' \"Number 9\"...somewhat.',\n",
       "  'tt2581244': \" Beth (Aubrey Plaza) in Life After Beth a film about a guy's girlfriend returning from the dead.\\n\",\n",
       "  'tt0089907': ' The Return of the Living Dead series:\\n In the original film, the Ms. Fanservice punk chick Trash (played by Linnea Quigley) gets killed and zombified halfway in. Upon her resurrection, a homeless man winds up Distracted by the Sexy when he sees the naked zombie Trash walk out of the graveyard... at least, until she\\'s close enough that the fog and darkness no longer obscure her Nightmare Face.\\n Julie (played by Melinda Clarke) in Return of the Living Dead 3 remains as attractive as when she was alive (albeit turning more \"dominatrix-like\") as the love story is crucial to the plot. Even prompting a rape attempt from one of the villains.\\n',\n",
       "  'tt1588173': \" The male protagonist of Warm Bodies, who falls in love with a human girl after eating her ex-boyfriend's brain.\\n\",\n",
       "  'tt6878820': ' The Disney Channel Original Movie Z-O-M-B-I-E-S is all about this trope. The main characters are Zed, a zombie, and Addison, a human, who are a couple.\\n',\n",
       "  'tt3501584': \" On iZombie, zombies in general (as long as they're able to eat enough brains to sustain themselves) look like ordinary people with pale skin and hair. Most choose to disguise themselves with cosmetics. Liv doesn't, but once she gets over being a zombie, it hasn't really affected her dating life (beyond having to take extra precautions to prevent infecting human partners, although she mostly dates other zombies); one of her boyfriends tells her she pulls off the zombie look.\\n\",\n",
       "  'tt2480514': ' The PDS sufferers who were attractive in life more or less retain their looks.',\n",
       "  'tt0925266': ' In Pushing Daisies, the protagonist magically brings his dead girlfriend back to life; she remains as beautiful as she was in life, but it is strongly implied that she\\'s now a Revenant Zombie rather than human (she doesn\\'t age, calls herself \"dead\" on several occasions, and is referred to as \"dead girl\" by several other characters).\\n'}}"
      ]
     },
     "execution_count": 95,
     "metadata": {},
     "output_type": "execute_result"
    }
   ],
   "source": [
    "get_all_info('Attractive Zombie')"
   ]
  },
  {
   "cell_type": "code",
   "execution_count": 97,
   "id": "5d370267-4aeb-46a9-824b-99891cc66a20",
   "metadata": {},
   "outputs": [
    {
     "name": "stdout",
     "output_type": "stream",
     "text": [
      "Completed: 0\n",
      "Completed: 5000\n",
      "Completed: 10000\n",
      "Completed: 15000\n",
      "Completed: 20000\n",
      "Completed: 25000\n"
     ]
    }
   ],
   "source": [
    "all_trope_info = dict()\n",
    "for i, trope in enumerate(tropes_to_media_ids.keys()):\n",
    "    all_trope_info[trope] = get_all_info(trope)\n",
    "    if i % 5000 == 0:\n",
    "        print('Completed: {}'.format(i))"
   ]
  },
  {
   "cell_type": "code",
   "execution_count": 98,
   "id": "81700542-b963-4152-8b1d-1224a368dd88",
   "metadata": {},
   "outputs": [],
   "source": [
    "with open('data/all_trope_metadata.json', 'w+') as f:\n",
    "    json.dump(all_trope_info, f)"
   ]
  },
  {
   "cell_type": "code",
   "execution_count": null,
   "id": "94405de2-474f-4ae9-a04c-f4f59606e01f",
   "metadata": {},
   "outputs": [],
   "source": []
  }
 ],
 "metadata": {
  "kernelspec": {
   "display_name": "skateboard",
   "language": "python",
   "name": "skateboard"
  },
  "language_info": {
   "codemirror_mode": {
    "name": "ipython",
    "version": 3
   },
   "file_extension": ".py",
   "mimetype": "text/x-python",
   "name": "python",
   "nbconvert_exporter": "python",
   "pygments_lexer": "ipython3",
   "version": "3.9.7"
  }
 },
 "nbformat": 4,
 "nbformat_minor": 5
}
