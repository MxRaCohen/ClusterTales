{
 "cells": [
  {
   "cell_type": "code",
   "execution_count": 2,
   "id": "949b5077-b4d9-4821-a2f3-e273318281d0",
   "metadata": {},
   "outputs": [],
   "source": [
    "\"\"\"\n",
    "Author: Ra Cohen (ra.q.cohen@gmail.com)\n",
    "Date: May 10, 2023\n",
    "Purpose: Scrape IMDB for movie information from matched data courtesy of https://github.com/dhruvilgala/tvtropes\n",
    "\"\"\"\n",
    "\n",
    "import pandas as pd\n",
    "import json\n",
    "from bs4 import BeautifulSoup as bs\n",
    "import requests\n",
    "import re"
   ]
  },
  {
   "cell_type": "code",
   "execution_count": 3,
   "id": "29199f40-ab26-43ac-8f2e-85f9ca6fb322",
   "metadata": {},
   "outputs": [],
   "source": [
    "film_tropes = pd.read_csv('data/film_imdb_match.csv')\n",
    "tv_tropes = pd.read_csv('data/tv_imdb_match.csv')\n",
    "\n",
    "media_ids = pd.unique(pd.concat([film_tropes.tconst, tv_tropes.tconst]))"
   ]
  },
  {
   "cell_type": "code",
   "execution_count": 4,
   "id": "0b837a7b-df1c-436c-9b47-34b1a15708cc",
   "metadata": {},
   "outputs": [],
   "source": [
    "BASE_URL = 'https://www.imdb.com/title/'\n",
    "USER_AGENT = {'User-agent':\n",
    "              'Mozilla/5.0 (Windows NT 10.0; Win64; x64) AppleWebKit/537.36 (KHTML, like Gecko) Chrome/74.0.3729.169 Safari/537.36'}\n",
    "\n",
    "def get_page_html(path, url=BASE_URL, user_agent=USER_AGENT):\n",
    "    url = url + path\n",
    "    html = requests.get(url, headers=user_agent).text\n",
    "    return bs(html)"
   ]
  },
  {
   "cell_type": "code",
   "execution_count": 5,
   "id": "7733e049-c6f0-4a94-a86a-192856fc3f89",
   "metadata": {},
   "outputs": [],
   "source": [
    "def get_title(page_html):\n",
    "    return page_html.find('title').text[0:-7]"
   ]
  },
  {
   "cell_type": "code",
   "execution_count": 6,
   "id": "cc4bb591-b418-4795-b1ff-b4697caad064",
   "metadata": {},
   "outputs": [],
   "source": [
    "def get_poster(page_html):\n",
    "    try:\n",
    "        return page_html.findAll('img', {'class' : 'ipc-image'})[0].get('src')\n",
    "    except:\n",
    "        return ''"
   ]
  },
  {
   "cell_type": "code",
   "execution_count": null,
   "id": "4783d70a-807a-481a-8eeb-c6273e723ace",
   "metadata": {},
   "outputs": [],
   "source": [
    "df = pd.DataFrame(columns=['id', 'title', 'poster'])\n",
    "\n",
    "for i, id_ in enumerate(media_ids):\n",
    "    page_html = get_page_html(id_)\n",
    "    title = get_title(page_html)\n",
    "    poster = get_poster(page_html)\n",
    "    df2 = {'id': id_, 'title': title, 'poster': poster}\n",
    "    df = df.append(df2, ignore_index = True)\n",
    "    if i % 100 == 0:\n",
    "        print(\"Completed {} out of {}\".format(i, len(media_ids)))\n",
    "\n",
    "file = 'data/imdb_id_poster.csv'\n",
    "df.to_csv(file, index=False)\n"
   ]
  },
  {
   "cell_type": "code",
   "execution_count": null,
   "id": "ddaa0513-7ef8-4758-ac93-d5ff5eef8832",
   "metadata": {},
   "outputs": [],
   "source": []
  }
 ],
 "metadata": {
  "kernelspec": {
   "display_name": "Python 3 (ipykernel)",
   "language": "python",
   "name": "python3"
  },
  "language_info": {
   "codemirror_mode": {
    "name": "ipython",
    "version": 3
   },
   "file_extension": ".py",
   "mimetype": "text/x-python",
   "name": "python",
   "nbconvert_exporter": "python",
   "pygments_lexer": "ipython3",
   "version": "3.9.7"
  }
 },
 "nbformat": 4,
 "nbformat_minor": 5
}
