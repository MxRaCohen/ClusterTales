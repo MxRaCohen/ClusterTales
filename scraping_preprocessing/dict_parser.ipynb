{
 "cells": [
  {
   "cell_type": "code",
   "execution_count": 22,
   "id": "bd918a07-72e9-4a0b-bbc1-24d1cb903ba4",
   "metadata": {},
   "outputs": [],
   "source": [
    "\"\"\"\n",
    "Author: Ra Cohen (ra.q.cohen@gmail.com)\n",
    "Date: May 11, 2023\n",
    "Purpose: Transform csv's into dictionaries for fast look-up\n",
    "\"\"\"\n",
    "\n",
    "import pandas as pd\n",
    "import json\n",
    "import re"
   ]
  },
  {
   "cell_type": "code",
   "execution_count": 3,
   "id": "6aa63b24-cfcf-4fa6-8e6b-9e37ea60bb86",
   "metadata": {},
   "outputs": [],
   "source": [
    "title_poster = pd.read_csv('data/imdb_id_poster.csv')"
   ]
  },
  {
   "cell_type": "code",
   "execution_count": 13,
   "id": "28b909f8-41c4-4b00-91d0-43c8d53b38d5",
   "metadata": {},
   "outputs": [],
   "source": [
    "id_to_poster = dict()\n",
    "id_to_title = dict()\n",
    "title_to_id = dict()"
   ]
  },
  {
   "cell_type": "code",
   "execution_count": 14,
   "id": "75f2e804-9410-4335-9378-fc81b7b60d28",
   "metadata": {},
   "outputs": [],
   "source": [
    "for i in range(title_poster.shape[0]):\n",
    "    row = title_poster.iloc[i]\n",
    "    id_to_poster[row['id']] = row['poster']\n",
    "    id_to_title[row['id']] = row['title']\n",
    "    title_to_id[row['title']] = row['id']"
   ]
  },
  {
   "cell_type": "code",
   "execution_count": 16,
   "id": "34bd251b-9471-4df4-bfb0-d37136c66d00",
   "metadata": {},
   "outputs": [],
   "source": [
    "with open('data/id_to_poster.json', 'w+') as f:\n",
    "    json.dump(id_to_poster, f)"
   ]
  },
  {
   "cell_type": "code",
   "execution_count": 17,
   "id": "f27d9119-0483-4ddf-8684-3740d220f30c",
   "metadata": {},
   "outputs": [],
   "source": [
    "with open('data/id_to_title.json', 'w+') as f:\n",
    "    json.dump(id_to_title, f)"
   ]
  },
  {
   "cell_type": "code",
   "execution_count": 18,
   "id": "bc3d95b7-edde-418c-9e24-50da7d58fc03",
   "metadata": {},
   "outputs": [],
   "source": [
    "with open('data/title_to_id.json', 'w+') as f:\n",
    "    json.dump(title_to_id, f)"
   ]
  },
  {
   "cell_type": "code",
   "execution_count": 19,
   "id": "f3350ec6-b5be-4cb5-a1b7-278fc868fda1",
   "metadata": {},
   "outputs": [],
   "source": [
    "film_tropes = pd.read_csv('data/film_imdb_match.csv')\n",
    "tv_tropes = pd.read_csv('data/tv_imdb_match.csv')\n",
    "media_df = pd.concat([film_tropes, tv_tropes])\n",
    "\n",
    "media_to_tropes = dict()\n",
    "tropes_to_media = dict()"
   ]
  },
  {
   "cell_type": "code",
   "execution_count": 23,
   "id": "ee9b0a23-1e47-4e8e-ab25-260787b317b5",
   "metadata": {},
   "outputs": [],
   "source": [
    "def get_name(name):\n",
    "    sep_str = re.findall(r'[A-Z](?:[a-z]+|[A-Z]*(?=[A-Z]|$))', name)\n",
    "    return \" \".join(sep_str)"
   ]
  },
  {
   "cell_type": "code",
   "execution_count": 24,
   "id": "1bf8c3ea-588b-4ee4-9dbd-7aad2ad89548",
   "metadata": {},
   "outputs": [],
   "source": [
    "media_df['Trope'] = media_df['Trope'].apply(get_name)"
   ]
  },
  {
   "cell_type": "code",
   "execution_count": 25,
   "id": "6b6c6dba-6c6e-4691-a326-63638dd7e8d2",
   "metadata": {},
   "outputs": [],
   "source": [
    "for i in range(media_df.shape[0]):\n",
    "    row = media_df.iloc[i]\n",
    "    try:\n",
    "        media_to_tropes[row['tconst']].append(row['Trope'])\n",
    "    except:\n",
    "        media_to_tropes[row['tconst']] = [row['Trope']]\n",
    "    \n",
    "    try:\n",
    "        tropes_to_media[row['Trope']].append(row['tconst'])\n",
    "    except:\n",
    "        tropes_to_media[row['Trope']] = [row['tconst']]"
   ]
  },
  {
   "cell_type": "code",
   "execution_count": 26,
   "id": "9f1d743f-2ae9-478b-a5c7-74925cf18c8a",
   "metadata": {},
   "outputs": [],
   "source": [
    "with open('data/media_to_tropes.json', 'w+') as f:\n",
    "    json.dump(media_to_tropes, f)"
   ]
  },
  {
   "cell_type": "code",
   "execution_count": 27,
   "id": "57049186-2362-45cb-805e-12a52305bf24",
   "metadata": {},
   "outputs": [],
   "source": [
    "with open('data/tropes_to_media.json', 'w+') as f:\n",
    "    json.dump(tropes_to_media, f)"
   ]
  },
  {
   "cell_type": "code",
   "execution_count": null,
   "id": "b8102997-fb8d-4e22-9afa-dfb9bb429ccf",
   "metadata": {},
   "outputs": [],
   "source": []
  }
 ],
 "metadata": {
  "kernelspec": {
   "display_name": "Python 3 (ipykernel)",
   "language": "python",
   "name": "python3"
  },
  "language_info": {
   "codemirror_mode": {
    "name": "ipython",
    "version": 3
   },
   "file_extension": ".py",
   "mimetype": "text/x-python",
   "name": "python",
   "nbconvert_exporter": "python",
   "pygments_lexer": "ipython3",
   "version": "3.9.7"
  }
 },
 "nbformat": 4,
 "nbformat_minor": 5
}
