{
 "cells": [
  {
   "cell_type": "code",
   "execution_count": null,
   "metadata": {},
   "outputs": [],
   "source": [
    "\"\"\"\n",
    "Author: Ra Cohen (ra.q.cohen@gmail.com)\n",
    "Date: May 4, 2023\n",
    "Based on: Graphs and Tropes Experiments by Aleksei Dorkin (@slowwavesleep)\n",
    "Original URL: https://github.com/slowwavesleep/GraphsAndTropesExperiments\n",
    "\"\"\""
   ]
  },
  {
   "cell_type": "code",
   "execution_count": 2,
   "metadata": {},
   "outputs": [],
   "source": [
    "from bs4 import BeautifulSoup as bs\n",
    "import requests\n",
    "import re\n",
    "import pandas as pd"
   ]
  },
  {
   "cell_type": "code",
   "execution_count": 3,
   "metadata": {},
   "outputs": [],
   "source": [
    "BASE_URL = 'https://tvtropes.org/'"
   ]
  },
  {
   "cell_type": "code",
   "execution_count": 4,
   "metadata": {},
   "outputs": [],
   "source": [
    "USER_AGENT = {'User-agent':\n",
    "              'Mozilla/5.0 (Windows NT 10.0; Win64; x64) AppleWebKit/537.36 (KHTML, like Gecko) Chrome/74.0.3729.169 Safari/537.36'}"
   ]
  },
  {
   "cell_type": "code",
   "execution_count": 5,
   "metadata": {},
   "outputs": [],
   "source": [
    "MEDIA = ('Anime', 'ComicBook', 'Fanfic', 'Literature',\n",
    "         'Myth', 'TabletopGame', 'Toys', 'Franchise', 'VideoGame',\n",
    "         'Webcomic', 'AudioPlay', 'WesternAnimation', 'Wrestling',\n",
    "         'Podcast', 'Music', 'Blog', 'ComicStrip', 'Theatre')"
   ]
  },
  {
   "cell_type": "code",
   "execution_count": 6,
   "metadata": {},
   "outputs": [],
   "source": [
    "IMDB_MATCHABLE = ('Film', 'Series')"
   ]
  },
  {
   "cell_type": "code",
   "execution_count": 7,
   "metadata": {},
   "outputs": [],
   "source": [
    "def get_page_html(path, url=BASE_URL, user_agent=USER_AGENT):\n",
    "    url = url + path\n",
    "    html = requests.get(url, headers=user_agent).text\n",
    "    return bs(html)"
   ]
  },
  {
   "cell_type": "code",
   "execution_count": 8,
   "metadata": {},
   "outputs": [],
   "source": [
    "def get_current_url(page, base_url=BASE_URL):\n",
    "    offset = 0\n",
    "    url = page.find('p', {'id': 'current_url'}).text\n",
    "    url = strip_domain(url)\n",
    "    return url"
   ]
  },
  {
   "cell_type": "code",
   "execution_count": 9,
   "metadata": {},
   "outputs": [],
   "source": [
    "def strip_domain(url):\n",
    "    return re.sub(r'http.*.org/', '', url)"
   ]
  },
  {
   "cell_type": "code",
   "execution_count": 10,
   "metadata": {},
   "outputs": [],
   "source": [
    "def get_info_from_url(url):\n",
    "    kind, name = re.findall('php/([^/]+).*/([^/]+)$', url)[0]\n",
    "    return kind, name"
   ]
  },
  {
   "cell_type": "code",
   "execution_count": 11,
   "metadata": {},
   "outputs": [],
   "source": [
    "def get_name(name):\n",
    "    sep_str = re.findall(r'[A-Z](?:[a-z]+|[A-Z]*(?=[A-Z]|$))', name)\n",
    "    return \" \".join(sep_str)"
   ]
  },
  {
   "cell_type": "code",
   "execution_count": 12,
   "metadata": {},
   "outputs": [],
   "source": [
    "def type_from_kind(kind, media=MEDIA, imdb_matchable=IMDB_MATCHABLE):\n",
    "    if kind == 'Main':\n",
    "        ptype = 'Trope'\n",
    "    elif kind == 'Creator':\n",
    "        ptype = 'Creator'\n",
    "    elif kind in imdb_matchable:\n",
    "        ptype = kind\n",
    "    elif kind in media:\n",
    "        ptype = 'Work'\n",
    "    else:\n",
    "        ptype = 'Other'\n",
    "    return ptype"
   ]
  },
  {
   "cell_type": "code",
   "execution_count": 13,
   "metadata": {},
   "outputs": [],
   "source": [
    "class Page(object):\n",
    "    \n",
    "    def __init__(self, url):\n",
    "        self.url = strip_domain(url)\n",
    "        kind, name = get_info_from_url(url)\n",
    "        ptype = type_from_kind(kind)\n",
    "        self.kind = kind\n",
    "        self.name = get_name(name)\n",
    "        self.ptype = ptype\n",
    "    \n",
    "    def __repr__(self):\n",
    "        return f'{self.ptype} : {self.name}'\n",
    "    "
   ]
  },
  {
   "cell_type": "code",
   "execution_count": 14,
   "metadata": {},
   "outputs": [],
   "source": [
    "def get_references(page):\n",
    "    references = []\n",
    "    url = get_current_url(page)\n",
    "    folders = page.findAll('div', {'class': 'folder'})\n",
    "    if folders:\n",
    "        lis = []\n",
    "        for folder in folders:\n",
    "            lis.extend(folder.findAll('li'))\n",
    "    else:\n",
    "        lis = page.find('h2').findNext('ul').findAll('li')\n",
    "    for li in lis:\n",
    "        links = li.findAll('a', {'class': 'twikilink'})\n",
    "        references.extend(links)\n",
    "    references = set([reference for reference in references if reference['href'] != url])\n",
    "    references = [Page(reference['href']) for reference in references]\n",
    "    references = [reference for reference in references if reference.ptype != 'Other']\n",
    "    return references\n",
    "        "
   ]
  },
  {
   "cell_type": "code",
   "execution_count": 2,
   "metadata": {},
   "outputs": [],
   "source": [
    "from neo4j import GraphDatabase, basic_auth"
   ]
  },
  {
   "cell_type": "code",
   "execution_count": 3,
   "metadata": {},
   "outputs": [],
   "source": [
    "driver = GraphDatabase.driver(\"neo4j+s://ae079f80.databases.neo4j.io\",\n",
    "                              auth=(\"neo4j\", \"2wHOpYvvZwXCVnUDAvuE5KKSKz09E-6nOFJuP5lzsH4\"))"
   ]
  },
  {
   "cell_type": "code",
   "execution_count": 4,
   "metadata": {},
   "outputs": [],
   "source": [
    "session = driver.session()"
   ]
  },
  {
   "cell_type": "code",
   "execution_count": 18,
   "metadata": {},
   "outputs": [],
   "source": [
    "def add_node(page_obj, session=session):\n",
    "    query = 'MERGE (p:Page:' + page_obj.ptype + '{name:$name, kind: $kind, url: $url})'\n",
    "    session.run(query, name=page_obj.name, kind=page_obj.kind, url=page_obj.url)"
   ]
  },
  {
   "cell_type": "code",
   "execution_count": 19,
   "metadata": {},
   "outputs": [],
   "source": [
    "add_node(Page('/pmwiki/pmwiki.php/VideoGame/PlagueInc'))"
   ]
  },
  {
   "cell_type": "code",
   "execution_count": 20,
   "metadata": {},
   "outputs": [],
   "source": [
    "def list_node_properties(url, session=session):\n",
    "    query = 'MATCH (n:Page{url: $url}) RETURN n'\n",
    "    return session.run(query, url=url).value()"
   ]
  },
  {
   "cell_type": "code",
   "execution_count": 21,
   "metadata": {},
   "outputs": [
    {
     "data": {
      "text/plain": [
       "[<Node element_id='4:0ee1c312-2185-45df-8494-f142ea9115d5:2' labels=frozenset({'Work', 'Page'}) properties={'kind': 'VideoGame', 'name': 'Plague Inc', 'url': '/pmwiki/pmwiki.php/VideoGame/PlagueInc'}>]"
      ]
     },
     "execution_count": 21,
     "metadata": {},
     "output_type": "execute_result"
    }
   ],
   "source": [
    "list_node_properties('/pmwiki/pmwiki.php/VideoGame/PlagueInc')"
   ]
  },
  {
   "cell_type": "code",
   "execution_count": 22,
   "metadata": {},
   "outputs": [],
   "source": [
    "def update_name(url, name, session=session):\n",
    "    query = 'MATCH (n:Page{url: $url}) SET n.name = $name'\n",
    "    session.run(query, url=url, name=name)"
   ]
  },
  {
   "cell_type": "code",
   "execution_count": 23,
   "metadata": {},
   "outputs": [],
   "source": [
    "update_name('/pmwiki/pmwiki.php/VideoGame/PlagueInc', 'test')"
   ]
  },
  {
   "cell_type": "code",
   "execution_count": 24,
   "metadata": {},
   "outputs": [
    {
     "data": {
      "text/plain": [
       "[<Node element_id='4:0ee1c312-2185-45df-8494-f142ea9115d5:2' labels=frozenset({'Work', 'Page'}) properties={'kind': 'VideoGame', 'name': 'test', 'url': '/pmwiki/pmwiki.php/VideoGame/PlagueInc'}>]"
      ]
     },
     "execution_count": 24,
     "metadata": {},
     "output_type": "execute_result"
    }
   ],
   "source": [
    "list_node_properties('/pmwiki/pmwiki.php/VideoGame/PlagueInc')"
   ]
  },
  {
   "cell_type": "code",
   "execution_count": 25,
   "metadata": {},
   "outputs": [],
   "source": [
    "def delete_node(url, session=session):\n",
    "    query = 'MATCH (p:Page{url: $url}) DETACH DELETE (p)'\n",
    "    session.run(query, url=url)"
   ]
  },
  {
   "cell_type": "code",
   "execution_count": 26,
   "metadata": {},
   "outputs": [],
   "source": [
    "delete_node('/pmwiki/pmwiki.php/VideoGame/PlagueInc')"
   ]
  },
  {
   "cell_type": "code",
   "execution_count": 27,
   "metadata": {},
   "outputs": [
    {
     "data": {
      "text/plain": [
       "[]"
      ]
     },
     "execution_count": 27,
     "metadata": {},
     "output_type": "execute_result"
    }
   ],
   "source": [
    "list_node_properties('/pmwiki/pmwiki.php/VideoGame/PlagueInc')"
   ]
  },
  {
   "cell_type": "code",
   "execution_count": 28,
   "metadata": {},
   "outputs": [],
   "source": [
    "def delete_all(session=session):\n",
    "    query = 'MATCH(n) DETACH DELETE n'\n",
    "    session.run(query)"
   ]
  },
  {
   "cell_type": "code",
   "execution_count": 29,
   "metadata": {},
   "outputs": [],
   "source": [
    "delete_all()"
   ]
  },
  {
   "cell_type": "code",
   "execution_count": 30,
   "metadata": {},
   "outputs": [],
   "source": [
    "def add_reference(page_from, page_to, session=session):\n",
    "    query = 'MATCH (a:Page) WHERE a.name = $from_node'\n",
    "    query += '\\nMATCH (b) WHERE b.name = $to_node'\n",
    "    query += '\\nMERGE (a)-[r:REFERENCE{visual:\\'-\\'}]->(b)'\n",
    "    session.run(query, from_node=page_from.name, to_node=page_to.name)"
   ]
  },
  {
   "cell_type": "code",
   "execution_count": 31,
   "metadata": {},
   "outputs": [],
   "source": [
    "def fill_references(url, session=session):\n",
    "    '''\n",
    "    Create a node and add references.\n",
    "    '''\n",
    "    page = get_page_html(url)\n",
    "    current = Page(url)\n",
    "    add_node(current)\n",
    "    references = get_references(page)\n",
    "    for reference in references:\n",
    "        add_node(reference)\n",
    "        add_reference(current, reference)"
   ]
  },
  {
   "cell_type": "code",
   "execution_count": 32,
   "metadata": {},
   "outputs": [],
   "source": [
    "def get_nodes_n(session=session):\n",
    "    '''\n",
    "    Return the total number of nodes in the datebase.\n",
    "    '''\n",
    "    query = 'MATCH (n) RETURN count(n) as count'\n",
    "    return session.run(query).single()['count']"
   ]
  },
  {
   "cell_type": "code",
   "execution_count": 33,
   "metadata": {},
   "outputs": [],
   "source": [
    "def get_edges_n(session=session):\n",
    "    '''\n",
    "    Return the total number of edges in the datebase.\n",
    "    '''\n",
    "    query = 'MATCH ()-[r]-() RETURN count(r) as count'\n",
    "    return session.run(query).single()['count']"
   ]
  },
  {
   "cell_type": "code",
   "execution_count": 34,
   "metadata": {},
   "outputs": [],
   "source": [
    "def get_node_edges(url, session=session):\n",
    "    query = 'MATCH ()-[r]-({url: $url}) RETURN count(r)'\n",
    "    return session.run(query, url=url).value()[0]"
   ]
  },
  {
   "cell_type": "code",
   "execution_count": 35,
   "metadata": {},
   "outputs": [],
   "source": [
    "def get_urls(session=session):\n",
    "    '''\n",
    "    List url of each node it the database.\n",
    "    '''\n",
    "    query = 'MATCH (n:Page) RETURN n.url'\n",
    "    result = session.run(query).values()\n",
    "    return  [record[0] for record in result]"
   ]
  },
  {
   "cell_type": "code",
   "execution_count": 36,
   "metadata": {},
   "outputs": [],
   "source": [
    "from collections import Counter\n",
    "\n",
    "def list_mutual_neigbors(n=10, session=session):\n",
    "    '''\n",
    "    Returns n most common tropes referenced by at least two works.\n",
    "    '''\n",
    "    query = 'MATCH (a:Work)-[:REFERENCE]->(t:Trope)<-[:REFERENCE]-(b:Work) RETURN t.url'\n",
    "    records = session.run(query).records()\n",
    "    records = Counter([record.value() for record in records])\n",
    "    return records.most_common(n)"
   ]
  },
  {
   "cell_type": "markdown",
   "metadata": {},
   "source": [
    "[The Common Neighbors algorithm](https://neo4j.com/docs/graph-algorithms/current/labs-algorithms/common-neighbors/)"
   ]
  },
  {
   "cell_type": "code",
   "execution_count": 37,
   "metadata": {},
   "outputs": [],
   "source": [
    "def common_neighbors(url1, url2, session=session):\n",
    "    query = 'MATCH (p1:Page{url:$url1})'\n",
    "    query += 'MATCH (p2:Page{url:$url2})'\n",
    "    query += 'RETURN algo.linkprediction.commonNeighbors(p1, p2) AS score'\n",
    "    return session.run(query, url1=url1, url2=url2).value()[0]"
   ]
  },
  {
   "cell_type": "markdown",
   "metadata": {},
   "source": [
    "Random Walk"
   ]
  },
  {
   "cell_type": "code",
   "execution_count": 38,
   "metadata": {},
   "outputs": [],
   "source": [
    "def random_walk(url, steps=3, walks=1, session=session):\n",
    "    query = '''MATCH (home:Page {url: $url})\n",
    "               CALL algo.randomWalk.stream(id(home), $steps, $walks)\n",
    "               YIELD nodeIds\n",
    "\n",
    "               UNWIND nodeIds AS nodeId\n",
    "\n",
    "               RETURN algo.asNode(nodeId).url AS page'''\n",
    "    return session.run(query, url=url, steps=steps, walks=walks)"
   ]
  },
  {
   "cell_type": "markdown",
   "metadata": {},
   "source": [
    "Similarity algorithms utilize node properties which aren't used at the moment."
   ]
  },
  {
   "cell_type": "markdown",
   "metadata": {},
   "source": [
    "Graph statistics"
   ]
  },
  {
   "cell_type": "code",
   "execution_count": 39,
   "metadata": {},
   "outputs": [],
   "source": [
    "def graph_stats(session=session):\n",
    "    '''\n",
    "    Returns stats of the graph in the current database.\n",
    "    '''\n",
    "    query = '''MATCH (p:Page)\n",
    "               RETURN avg(apoc.node.degree(p,'REFERENCE')) as average_refs,\n",
    "               stdev(apoc.node.degree(p,'REFERENCE')) as stdev_refs,\n",
    "               max(apoc.node.degree(p,'REFERENCE')) as max_refs,\n",
    "               min(apoc.node.degree(p,'REFERENCE')) as min_refs'''\n",
    "    records = session.run(query)\n",
    "    records = [record for record in records.records()][0]\n",
    "    result = {}\n",
    "    result['average_refs'] = records['average_refs']\n",
    "    result['stdev_refs'] = records['stdev_refs']\n",
    "    result['max_refs'] = records['max_refs']\n",
    "    result['min_refs'] = records['min_refs']\n",
    "    return result"
   ]
  },
  {
   "cell_type": "code",
   "execution_count": 40,
   "metadata": {},
   "outputs": [],
   "source": [
    "def all_trope_parser(i):\n",
    "    url = \"/pmwiki/pagelist_having_pagetype_in_namespace.php?n=Main&t=trope&page=\"+str(i)\n",
    "    trope_list = get_page_html(url).findAll('td')\n",
    "    \n",
    "    all_tropes = []\n",
    "    for entry in trope_list:\n",
    "        trope_url = entry.contents[0]['href']\n",
    "        all_tropes.append(strip_domain(trope_url))\n",
    "\n",
    "    all_tropes = [Page(trope) for trope in all_tropes]\n",
    "    return all_tropes"
   ]
  },
  {
   "cell_type": "markdown",
   "metadata": {},
   "source": [
    "Get all our trope nodes"
   ]
  },
  {
   "cell_type": "code",
   "execution_count": 49,
   "metadata": {},
   "outputs": [],
   "source": [
    "def get_all_trope_nodes():\n",
    "    all_tropes = []\n",
    "    for i in range(1, 60):\n",
    "        all_tropes.extend(all_trope_parser(i))\n",
    "    return all_tropes"
   ]
  },
  {
   "cell_type": "code",
   "execution_count": 50,
   "metadata": {},
   "outputs": [],
   "source": [
    "def add_all_nodes(page_list):\n",
    "    for trope in all_tropes:\n",
    "        add_node(trope)"
   ]
  },
  {
   "cell_type": "code",
   "execution_count": 53,
   "metadata": {},
   "outputs": [
    {
     "data": {
      "text/plain": [
       "29027"
      ]
     },
     "execution_count": 53,
     "metadata": {},
     "output_type": "execute_result"
    }
   ],
   "source": [
    "all_tropes = get_all_trope_nodes()\n",
    "len(all_tropes)"
   ]
  },
  {
   "cell_type": "code",
   "execution_count": null,
   "metadata": {},
   "outputs": [],
   "source": [
    "add_all_nodes(all_tropes)"
   ]
  },
  {
   "cell_type": "markdown",
   "metadata": {},
   "source": [
    "For each trope, find its related subtropes"
   ]
  },
  {
   "cell_type": "code",
   "execution_count": 56,
   "metadata": {},
   "outputs": [],
   "source": [
    "def add_related_trope(page_from, page_to, session=session):\n",
    "    query = 'MATCH (a:Page) WHERE a.name = $from_node'\n",
    "    query += '\\nMATCH (b) WHERE b.name = $to_node'\n",
    "    query += '\\nMERGE (a)-[r:RELATED{visual:\\'-\\'}]->(b)'\n",
    "    session.run(query, from_node=page_from.name, to_node=page_to.name)"
   ]
  },
  {
   "cell_type": "code",
   "execution_count": 47,
   "metadata": {},
   "outputs": [],
   "source": [
    "def get_related_tropes(url):\n",
    "    related_tropes = []\n",
    "    folders = get_page_html(url).findAll('div', {'id': 'main-article'})\n",
    "    if folders:\n",
    "        lis = []\n",
    "        for folder in folders:\n",
    "            lis.extend(folder.findAll('p'))\n",
    "    else:\n",
    "        lis = page.find('h2').findNext('ul').findAll('li')\n",
    "    for li in lis:\n",
    "        links = li.findAll('a', {'class': 'twikilink'})\n",
    "        related_tropes.extend(links)\n",
    "    related_tropes = set([related_trope for related_trope in related_tropes if related_trope['href'] != url])\n",
    "    related_tropes = [Page(related_trope['href']) for related_trope in related_tropes]\n",
    "    related_tropes = [related_trope for related_trope in related_tropes if related_trope.ptype == 'Trope']\n",
    "    return related_tropes"
   ]
  },
  {
   "cell_type": "code",
   "execution_count": 57,
   "metadata": {},
   "outputs": [],
   "source": [
    "for trope in all_tropes:\n",
    "    related_tropes = get_related_tropes(trope.url)\n",
    "    for related_trope in related_tropes:\n",
    "        add_related_trope(trope, related_trope)"
   ]
  },
  {
   "cell_type": "code",
   "execution_count": 7,
   "metadata": {},
   "outputs": [],
   "source": []
  },
  {
   "cell_type": "code",
   "execution_count": 8,
   "metadata": {},
   "outputs": [],
   "source": []
  },
  {
   "cell_type": "code",
   "execution_count": null,
   "metadata": {},
   "outputs": [],
   "source": []
  }
 ],
 "metadata": {
  "kernelspec": {
   "display_name": "Python 3 (ipykernel)",
   "language": "python",
   "name": "python3"
  },
  "language_info": {
   "codemirror_mode": {
    "name": "ipython",
    "version": 3
   },
   "file_extension": ".py",
   "mimetype": "text/x-python",
   "name": "python",
   "nbconvert_exporter": "python",
   "pygments_lexer": "ipython3",
   "version": "3.9.7"
  }
 },
 "nbformat": 4,
 "nbformat_minor": 4
}
