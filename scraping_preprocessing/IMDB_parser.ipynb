{
 "cells": [
  {
   "cell_type": "code",
   "execution_count": 8,
   "id": "22b184db-a945-485c-9c44-85ab2b896c32",
   "metadata": {},
   "outputs": [],
   "source": [
    "\"\"\"\n",
    "Author: Ra Cohen (ra.q.cohen@gmail.com)\n",
    "Date: May 15, 2023\n",
    "Purpose: Parse IMDB supplied data sets (https://developer.imdb.com/non-commercial-datasets/) \n",
    "for movie information from matched data courtesy of (https://github.com/dhruvilgala/tvtropes)\n",
    "\"\"\"\n",
    "\n",
    "import pandas as pd\n",
    "import json"
   ]
  },
  {
   "cell_type": "code",
   "execution_count": 2,
   "id": "8ae209a5-0f57-4720-abef-4e00111bd04b",
   "metadata": {},
   "outputs": [],
   "source": [
    "imdb_ratings = pd.read_csv(\"data/imdb_ratings.tsv\", sep = '\\t', low_memory=False)"
   ]
  },
  {
   "cell_type": "code",
   "execution_count": 3,
   "id": "f50d00c1-66ce-45a3-8170-abab78d53e99",
   "metadata": {},
   "outputs": [
    {
     "data": {
      "text/html": [
       "<div>\n",
       "<style scoped>\n",
       "    .dataframe tbody tr th:only-of-type {\n",
       "        vertical-align: middle;\n",
       "    }\n",
       "\n",
       "    .dataframe tbody tr th {\n",
       "        vertical-align: top;\n",
       "    }\n",
       "\n",
       "    .dataframe thead th {\n",
       "        text-align: right;\n",
       "    }\n",
       "</style>\n",
       "<table border=\"1\" class=\"dataframe\">\n",
       "  <thead>\n",
       "    <tr style=\"text-align: right;\">\n",
       "      <th></th>\n",
       "      <th>tconst</th>\n",
       "      <th>averageRating</th>\n",
       "      <th>numVotes</th>\n",
       "    </tr>\n",
       "  </thead>\n",
       "  <tbody>\n",
       "    <tr>\n",
       "      <th>0</th>\n",
       "      <td>tt0000001</td>\n",
       "      <td>5.7</td>\n",
       "      <td>1972</td>\n",
       "    </tr>\n",
       "    <tr>\n",
       "      <th>1</th>\n",
       "      <td>tt0000002</td>\n",
       "      <td>5.8</td>\n",
       "      <td>263</td>\n",
       "    </tr>\n",
       "    <tr>\n",
       "      <th>2</th>\n",
       "      <td>tt0000003</td>\n",
       "      <td>6.5</td>\n",
       "      <td>1819</td>\n",
       "    </tr>\n",
       "    <tr>\n",
       "      <th>3</th>\n",
       "      <td>tt0000004</td>\n",
       "      <td>5.6</td>\n",
       "      <td>178</td>\n",
       "    </tr>\n",
       "    <tr>\n",
       "      <th>4</th>\n",
       "      <td>tt0000005</td>\n",
       "      <td>6.2</td>\n",
       "      <td>2614</td>\n",
       "    </tr>\n",
       "  </tbody>\n",
       "</table>\n",
       "</div>"
      ],
      "text/plain": [
       "      tconst  averageRating  numVotes\n",
       "0  tt0000001            5.7      1972\n",
       "1  tt0000002            5.8       263\n",
       "2  tt0000003            6.5      1819\n",
       "3  tt0000004            5.6       178\n",
       "4  tt0000005            6.2      2614"
      ]
     },
     "execution_count": 3,
     "metadata": {},
     "output_type": "execute_result"
    }
   ],
   "source": [
    "imdb_ratings.head()"
   ]
  },
  {
   "cell_type": "code",
   "execution_count": 4,
   "id": "7ca4f772-cf2b-4c7c-bce4-f03318489fdf",
   "metadata": {},
   "outputs": [],
   "source": [
    "with open('data/id_to_title.json') as json_file:\n",
    "    id_to_title = json.load(json_file)"
   ]
  },
  {
   "cell_type": "code",
   "execution_count": 6,
   "id": "252eb8ea-d0d0-4829-93aa-10e2bc9219e8",
   "metadata": {},
   "outputs": [],
   "source": [
    "test_id = [x for x in id_to_title.keys()][0]"
   ]
  },
  {
   "cell_type": "code",
   "execution_count": 7,
   "id": "ce839f7a-7e1e-4ff9-93b6-6c59ec3a80b2",
   "metadata": {},
   "outputs": [
    {
     "data": {
      "text/html": [
       "<div>\n",
       "<style scoped>\n",
       "    .dataframe tbody tr th:only-of-type {\n",
       "        vertical-align: middle;\n",
       "    }\n",
       "\n",
       "    .dataframe tbody tr th {\n",
       "        vertical-align: top;\n",
       "    }\n",
       "\n",
       "    .dataframe thead th {\n",
       "        text-align: right;\n",
       "    }\n",
       "</style>\n",
       "<table border=\"1\" class=\"dataframe\">\n",
       "  <thead>\n",
       "    <tr style=\"text-align: right;\">\n",
       "      <th></th>\n",
       "      <th>tconst</th>\n",
       "      <th>averageRating</th>\n",
       "      <th>numVotes</th>\n",
       "    </tr>\n",
       "  </thead>\n",
       "  <tbody>\n",
       "    <tr>\n",
       "      <th>52259</th>\n",
       "      <td>tt0075617</td>\n",
       "      <td>6.4</td>\n",
       "      <td>3613</td>\n",
       "    </tr>\n",
       "  </tbody>\n",
       "</table>\n",
       "</div>"
      ],
      "text/plain": [
       "          tconst  averageRating  numVotes\n",
       "52259  tt0075617            6.4      3613"
      ]
     },
     "execution_count": 7,
     "metadata": {},
     "output_type": "execute_result"
    }
   ],
   "source": [
    "imdb_ratings[imdb_ratings['tconst'] == test_id]"
   ]
  },
  {
   "cell_type": "code",
   "execution_count": 25,
   "id": "223855f0-edca-4007-aa66-7f35a9d05ccf",
   "metadata": {},
   "outputs": [
    {
     "name": "stdout",
     "output_type": "stream",
     "text": [
      "Completed 0 out of 12967\n",
      "Completed 100 out of 12967\n",
      "Completed 200 out of 12967\n",
      "Completed 300 out of 12967\n",
      "Completed 400 out of 12967\n",
      "Completed 500 out of 12967\n",
      "Completed 600 out of 12967\n",
      "Completed 700 out of 12967\n",
      "Completed 800 out of 12967\n",
      "Completed 900 out of 12967\n",
      "Completed 1000 out of 12967\n",
      "Completed 1100 out of 12967\n",
      "Completed 1200 out of 12967\n",
      "Completed 1300 out of 12967\n",
      "Completed 1400 out of 12967\n",
      "Completed 1500 out of 12967\n",
      "Completed 1600 out of 12967\n",
      "Completed 1700 out of 12967\n",
      "Completed 1800 out of 12967\n",
      "Completed 1900 out of 12967\n",
      "Completed 2000 out of 12967\n",
      "Completed 2100 out of 12967\n",
      "Completed 2200 out of 12967\n",
      "Completed 2300 out of 12967\n",
      "Completed 2400 out of 12967\n",
      "Completed 2500 out of 12967\n",
      "Completed 2600 out of 12967\n",
      "Completed 2700 out of 12967\n",
      "Completed 2800 out of 12967\n",
      "Completed 2900 out of 12967\n",
      "Completed 3000 out of 12967\n",
      "Completed 3100 out of 12967\n",
      "Completed 3200 out of 12967\n",
      "Completed 3300 out of 12967\n",
      "Completed 3400 out of 12967\n",
      "Completed 3500 out of 12967\n",
      "Completed 3600 out of 12967\n",
      "Completed 3700 out of 12967\n",
      "Completed 3800 out of 12967\n",
      "Completed 3900 out of 12967\n",
      "Completed 4000 out of 12967\n",
      "Completed 4100 out of 12967\n",
      "Completed 4200 out of 12967\n",
      "Completed 4300 out of 12967\n",
      "Completed 4400 out of 12967\n",
      "Completed 4500 out of 12967\n",
      "Completed 4600 out of 12967\n",
      "Completed 4700 out of 12967\n",
      "Completed 4800 out of 12967\n",
      "Completed 4900 out of 12967\n",
      "Completed 5000 out of 12967\n",
      "Completed 5100 out of 12967\n",
      "Completed 5200 out of 12967\n",
      "Completed 5300 out of 12967\n",
      "Completed 5400 out of 12967\n",
      "Completed 5500 out of 12967\n",
      "Completed 5600 out of 12967\n",
      "Completed 5700 out of 12967\n",
      "Completed 5800 out of 12967\n",
      "Completed 5900 out of 12967\n",
      "Completed 6000 out of 12967\n",
      "Completed 6100 out of 12967\n",
      "Completed 6200 out of 12967\n",
      "Completed 6300 out of 12967\n",
      "Completed 6400 out of 12967\n",
      "Completed 6500 out of 12967\n",
      "Completed 6600 out of 12967\n",
      "Completed 6700 out of 12967\n",
      "Completed 6800 out of 12967\n",
      "Completed 6900 out of 12967\n",
      "Completed 7000 out of 12967\n",
      "Completed 7100 out of 12967\n",
      "Completed 7200 out of 12967\n",
      "Completed 7300 out of 12967\n",
      "Completed 7400 out of 12967\n",
      "Completed 7500 out of 12967\n",
      "Completed 7600 out of 12967\n",
      "Completed 7700 out of 12967\n",
      "Completed 7800 out of 12967\n",
      "Completed 7900 out of 12967\n",
      "Completed 8000 out of 12967\n",
      "Completed 8100 out of 12967\n",
      "Completed 8200 out of 12967\n",
      "Completed 8300 out of 12967\n",
      "Completed 8400 out of 12967\n",
      "Completed 8500 out of 12967\n",
      "Completed 8600 out of 12967\n",
      "Completed 8700 out of 12967\n",
      "Completed 8800 out of 12967\n",
      "Completed 8900 out of 12967\n",
      "Completed 9000 out of 12967\n",
      "Completed 9100 out of 12967\n",
      "Completed 9200 out of 12967\n",
      "Completed 9300 out of 12967\n",
      "Completed 9400 out of 12967\n",
      "Completed 9500 out of 12967\n",
      "Completed 9600 out of 12967\n",
      "Completed 9700 out of 12967\n",
      "Completed 9800 out of 12967\n",
      "Completed 9900 out of 12967\n",
      "Completed 10000 out of 12967\n",
      "Completed 10100 out of 12967\n",
      "Completed 10200 out of 12967\n",
      "Completed 10300 out of 12967\n",
      "Completed 10400 out of 12967\n",
      "Completed 10500 out of 12967\n",
      "Completed 10600 out of 12967\n",
      "Completed 10700 out of 12967\n",
      "Completed 10800 out of 12967\n",
      "Completed 10900 out of 12967\n",
      "Completed 11000 out of 12967\n",
      "Completed 11100 out of 12967\n",
      "Completed 11200 out of 12967\n",
      "Completed 11300 out of 12967\n",
      "Completed 11400 out of 12967\n",
      "Completed 11500 out of 12967\n",
      "Completed 11600 out of 12967\n",
      "Completed 11700 out of 12967\n",
      "Completed 11800 out of 12967\n",
      "Completed 11900 out of 12967\n",
      "Completed 12000 out of 12967\n",
      "Completed 12100 out of 12967\n",
      "Completed 12200 out of 12967\n",
      "Completed 12300 out of 12967\n",
      "Completed 12400 out of 12967\n",
      "Completed 12500 out of 12967\n",
      "Completed 12600 out of 12967\n",
      "Completed 12700 out of 12967\n",
      "Completed 12800 out of 12967\n",
      "Completed 12900 out of 12967\n",
      "Completed with 216 failures\n"
     ]
    }
   ],
   "source": [
    "id_to_rating = dict()\n",
    "failed = 0\n",
    "for i, id_ in enumerate(id_to_title.keys()):\n",
    "    row = imdb_ratings[imdb_ratings['tconst'] == id_]\n",
    "    try:\n",
    "        id_to_rating[id_] = float(row['averageRating'])\n",
    "    except:\n",
    "        failed += 1\n",
    "    if i % 100 == 0:\n",
    "        print(\"Completed {} out of {}\".format(i, len(id_to_title.keys())))\n",
    "print(\"Completed with {} failures\".format(failed))"
   ]
  },
  {
   "cell_type": "code",
   "execution_count": 26,
   "id": "a9911928-cec4-4c71-94e7-d1c847400317",
   "metadata": {},
   "outputs": [],
   "source": [
    "with open('data/id_to_rating.json', 'w+') as f:\n",
    "    json.dump(id_to_rating, f)"
   ]
  },
  {
   "cell_type": "code",
   "execution_count": 27,
   "id": "4d287333-f22d-4827-98d4-173bc8cff8a4",
   "metadata": {},
   "outputs": [],
   "source": [
    "imdb_info = pd.read_csv(\"data/imdb_basics.tsv\", sep = '\\t', low_memory=False)"
   ]
  },
  {
   "cell_type": "code",
   "execution_count": 40,
   "id": "c41addb2-b2a4-45e8-a1fa-d338c26912c6",
   "metadata": {},
   "outputs": [
    {
     "name": "stdout",
     "output_type": "stream",
     "text": [
      "Completed 0 out of 12967\n",
      "Completed 500 out of 12967\n",
      "Completed 1000 out of 12967\n",
      "Completed 1500 out of 12967\n",
      "Completed 2000 out of 12967\n",
      "Completed 2500 out of 12967\n",
      "Completed 3000 out of 12967\n",
      "Completed 3500 out of 12967\n",
      "Completed 4000 out of 12967\n",
      "Completed 4500 out of 12967\n",
      "Completed 5000 out of 12967\n",
      "Completed 5500 out of 12967\n",
      "Completed 6000 out of 12967\n",
      "Completed 6500 out of 12967\n",
      "Completed 7000 out of 12967\n",
      "Completed 7500 out of 12967\n",
      "Completed 8000 out of 12967\n",
      "Completed 8500 out of 12967\n",
      "Completed 9000 out of 12967\n",
      "Completed 9500 out of 12967\n",
      "Completed 10000 out of 12967\n",
      "Completed 10500 out of 12967\n",
      "Completed 11000 out of 12967\n",
      "Completed 11500 out of 12967\n",
      "Completed 12000 out of 12967\n",
      "Completed 12500 out of 12967\n",
      "Completed with 0 failures\n"
     ]
    }
   ],
   "source": [
    "id_to_genre = dict()\n",
    "all_genres = set()\n",
    "failures = 0\n",
    "for i, id_ in enumerate(id_to_title.keys()):\n",
    "    row = imdb_info[imdb_info['tconst'] == id_]\n",
    "    try:\n",
    "        raw_genres = str(row['genres'].values)\n",
    "        genres = raw_genres[2:-2].split(',')\n",
    "        id_to_genre[id_] = genres\n",
    "        for genre in genres:\n",
    "            all_genres.add(genre)\n",
    "    except:\n",
    "        print(row)\n",
    "        failures += 1\n",
    "    if i % 500 == 0:\n",
    "        print(\"Completed {} out of {}\".format(i, len(id_to_title.keys())))\n",
    "print(\"Completed with {} failures\".format(failures))"
   ]
  },
  {
   "cell_type": "code",
   "execution_count": 41,
   "id": "0787bf52-7fe9-4d42-b89d-1efae8246cdc",
   "metadata": {},
   "outputs": [],
   "source": [
    "with open('data/id_to_genres.json', 'w+') as f:\n",
    "    json.dump(id_to_genre, f)"
   ]
  },
  {
   "cell_type": "code",
   "execution_count": 43,
   "id": "73249834-eb76-4d5f-8038-cbeb33c80719",
   "metadata": {},
   "outputs": [
    {
     "data": {
      "text/plain": [
       "['',\n",
       " 'Action',\n",
       " 'Adult',\n",
       " 'Adventure',\n",
       " 'Animation',\n",
       " 'Biography',\n",
       " 'Comedy',\n",
       " 'Crime',\n",
       " 'Documentary',\n",
       " 'Drama',\n",
       " 'Family',\n",
       " 'Fantasy',\n",
       " 'Film-Noir',\n",
       " 'Game-Show',\n",
       " 'History',\n",
       " 'Horror',\n",
       " 'Music',\n",
       " 'Musical',\n",
       " 'Mystery',\n",
       " 'News',\n",
       " 'Reality-TV',\n",
       " 'Romance',\n",
       " 'Sci-Fi',\n",
       " 'Short',\n",
       " 'Sport',\n",
       " 'Talk-Show',\n",
       " 'Thriller',\n",
       " 'War',\n",
       " 'Western',\n",
       " '\\\\\\\\N']"
      ]
     },
     "execution_count": 43,
     "metadata": {},
     "output_type": "execute_result"
    }
   ],
   "source": [
    "all_genres_l = list(all_genres)\n",
    "all_genres_l.sort()\n",
    "all_genres_l"
   ]
  },
  {
   "cell_type": "code",
   "execution_count": null,
   "id": "cf9f1852-3b3a-491d-9084-2b062b4ffd07",
   "metadata": {},
   "outputs": [],
   "source": [
    "with open('data/id_to_genre_features.json', 'w+') as f:\n",
    "    json.dump(id_to_genre_features, f)"
   ]
  }
 ],
 "metadata": {
  "kernelspec": {
   "display_name": "Python 3 (ipykernel)",
   "language": "python",
   "name": "python3"
  },
  "language_info": {
   "codemirror_mode": {
    "name": "ipython",
    "version": 3
   },
   "file_extension": ".py",
   "mimetype": "text/x-python",
   "name": "python",
   "nbconvert_exporter": "python",
   "pygments_lexer": "ipython3",
   "version": "3.9.7"
  }
 },
 "nbformat": 4,
 "nbformat_minor": 5
}
