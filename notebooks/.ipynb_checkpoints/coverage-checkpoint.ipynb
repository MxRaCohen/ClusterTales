{
 "cells": [
  {
   "cell_type": "markdown",
   "id": "527f6bf2-ff95-4735-8f85-6809df05f8db",
   "metadata": {},
   "source": [
    "# Recommender Quality Assessment\n",
    "In order to gauge the quality of my recommender, I will calculate the coverage of my corpus, meaning what percentage of the content can be surfaced by my recommender."
   ]
  },
  {
   "cell_type": "code",
   "execution_count": 6,
   "id": "5d8b10fe-b5f6-4be8-ae66-24ceb2719ce0",
   "metadata": {},
   "outputs": [],
   "source": [
    "import pandas as pd\n",
    "import numpy as np\n",
    "import json\n",
    "\n",
    "import matplotlib.pyplot as plt\n",
    "import seaborn as sns"
   ]
  },
  {
   "cell_type": "code",
   "execution_count": 5,
   "id": "9f7d7f18-5014-470c-866a-5c13035f0d42",
   "metadata": {
    "tags": []
   },
   "outputs": [
    {
     "data": {
      "text/plain": [
       "'/Users/thevoid/Documents/BrainStation/Capstone/skateboard'"
      ]
     },
     "execution_count": 5,
     "metadata": {},
     "output_type": "execute_result"
    }
   ],
   "source": [
    "import os\n",
    "os.chdir('..')\n",
    "os.getcwd()"
   ]
  },
  {
   "cell_type": "code",
   "execution_count": 7,
   "id": "dc1c18ed-5552-4bd4-b710-ee20ed97e6ca",
   "metadata": {},
   "outputs": [
    {
     "name": "stdout",
     "output_type": "stream",
     "text": [
      "loading expanded tags\n"
     ]
    },
    {
     "name": "stderr",
     "output_type": "stream",
     "text": [
      "/Users/thevoid/Documents/BrainStation/Capstone/skateboard/recommend.py:20: DtypeWarning: Columns (1,2,3,4) have mixed types. Specify dtype option on import or set low_memory=False.\n",
      "  raw_tropes = pd.read_csv('data/tropes.csv')\n"
     ]
    }
   ],
   "source": [
    "import access\n",
    "import recommend"
   ]
  },
  {
   "cell_type": "markdown",
   "id": "02bb35e4-32c4-4685-b60c-21ee50af8800",
   "metadata": {},
   "source": [
    "Warning to the user, this takes approximately 1,000 years."
   ]
  },
  {
   "cell_type": "code",
   "execution_count": null,
   "id": "2db99f9b-a50f-4e69-8d62-821e91e005fe",
   "metadata": {},
   "outputs": [],
   "source": [
    "%%capture --no-stdout --no-display\n",
    "\n",
    "# Get the catalogue to be each starting point \n",
    "all_media = access.get_all_media_ids()\n",
    "\n",
    "# Container for output recommendations\n",
    "was_recommended = set()\n",
    "errors = 0\n",
    "\n",
    "# Iterate over content and store recommendations \n",
    "for i, id_ in enumerate(all_media):\n",
    "    title = access.get_media_name(id_)\n",
    "    try:\n",
    "        recs = recommend.get_recommendations([title])\n",
    "        for item in recs['nearest']:\n",
    "            was_recommended.add(item)\n",
    "        for item in recs['variety']:\n",
    "            was_recommended.add(item)\n",
    "    except:\n",
    "        errors += 1\n",
    "        print(errors)\n",
    "    if i % 500 == 0:\n",
    "        print('Completed ' + str(i))"
   ]
  },
  {
   "cell_type": "code",
   "execution_count": null,
   "id": "5e40b645-d8a6-4f2b-8dc7-1e5bcc93a866",
   "metadata": {},
   "outputs": [],
   "source": [
    "# Percent errors to know the robustness of the recommendation system\n",
    "err_percent = 100.0 * errors / len(all_media)\n",
    "err_percent"
   ]
  },
  {
   "cell_type": "code",
   "execution_count": null,
   "id": "7f374cb8-c846-40ff-a56c-ff612e0a7f6b",
   "metadata": {},
   "outputs": [],
   "source": [
    "# Calculate the number of contents recommended over all contents (without the edge-case errors)\n",
    "coverage = 100.0 * len(was_recommended) / (len(all_media) - errors)\n",
    "coverage"
   ]
  }
 ],
 "metadata": {
  "kernelspec": {
   "display_name": "skateboard",
   "language": "python",
   "name": "skateboard"
  },
  "language_info": {
   "codemirror_mode": {
    "name": "ipython",
    "version": 3
   },
   "file_extension": ".py",
   "mimetype": "text/x-python",
   "name": "python",
   "nbconvert_exporter": "python",
   "pygments_lexer": "ipython3",
   "version": "3.9.16"
  }
 },
 "nbformat": 4,
 "nbformat_minor": 5
}
