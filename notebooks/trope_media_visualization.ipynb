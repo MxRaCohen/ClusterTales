{
 "cells": [
  {
   "cell_type": "markdown",
   "id": "31728613-3775-4387-bf3e-8bc6af0635e0",
   "metadata": {},
   "source": [
    "# Media Trope Visualization\n",
    "Author: Ra Cohen\n",
    "Purpose: Visualize the relationships between tropes and media in addition to local recommendations."
   ]
  },
  {
   "cell_type": "code",
   "execution_count": null,
   "id": "f34d3e40-738e-4c3a-b95f-413ef69322bc",
   "metadata": {},
   "outputs": [],
   "source": [
    "import numpy as np\n",
    "import pandas as pd\n",
    "pd.set_option('display.max_colwidth', None)\n",
    "import re\n",
    "import json\n",
    "\n",
    "import matplotlib.pyplot as plt\n",
    "import seaborn as sns\n",
    "\n",
    "from sklearn.manifold import TSNE\n",
    "from sklearn.decomposition import PCA\n",
    "\n",
    "from sklearn.cluster import KMeans"
   ]
  },
  {
   "cell_type": "code",
   "execution_count": null,
   "id": "eac91214-220b-4c3f-b1e8-7c329683b5b1",
   "metadata": {},
   "outputs": [],
   "source": [
    "import access\n",
    "import recommend"
   ]
  },
  {
   "cell_type": "markdown",
   "id": "eb378b28-3864-4c45-ab7b-4a8c50d46f1b",
   "metadata": {},
   "source": [
    "Read in data sets and grab all ids of specifically films."
   ]
  },
  {
   "cell_type": "code",
   "execution_count": null,
   "id": "737af064-db2f-4ad8-be28-a0634280fc2b",
   "metadata": {},
   "outputs": [],
   "source": [
    "film_df = pd.read_csv('data/film_imdb_match.csv')"
   ]
  },
  {
   "cell_type": "code",
   "execution_count": null,
   "id": "3a6a8496-8f5e-4cc7-8d5f-fce384ed05e6",
   "metadata": {},
   "outputs": [],
   "source": [
    "film_ids = [x for x in film_df['tconst']]"
   ]
  },
  {
   "cell_type": "code",
   "execution_count": null,
   "id": "c5c4483e-e946-4c0a-b53e-ad829f7a8b1c",
   "metadata": {},
   "outputs": [],
   "source": [
    "with open('data/tropes_to_media.json') as data:\n",
    "    tropes_to_media_ids = json.load(data)\n",
    "\n",
    "with open('data/media_to_tropes.json') as data:\n",
    "    media_ids_to_tropes = json.load(data)"
   ]
  },
  {
   "cell_type": "markdown",
   "id": "da64ad9f-ee3a-44ba-aad0-aeb398d16200",
   "metadata": {},
   "source": [
    "## Media per Trope\n",
    "For each Trope, how many pieces of media use that trope?"
   ]
  },
  {
   "cell_type": "code",
   "execution_count": null,
   "id": "52c75c76-1ab3-4e9e-844e-9aab794a1532",
   "metadata": {},
   "outputs": [],
   "source": [
    "media_per_trope = pd.DataFrame()\n",
    "media_per_trope['trope'] = tropes_to_media_ids.keys()\n",
    "counts = []\n",
    "for trope in media_per_trope['trope']:\n",
    "    counts.append(len(tropes_to_media_ids[trope]))\n",
    "media_per_trope['Number of Media Using Each Trope'] = counts"
   ]
  },
  {
   "cell_type": "code",
   "execution_count": null,
   "id": "5f7b444e-2ac2-47ac-b93a-810f1b2e9540",
   "metadata": {},
   "outputs": [],
   "source": [
    "plt.figure()\n",
    "sns.histplot(data = media_per_trope, x=\"Number of Media Using Each Trope\", log_scale=True)\n",
    "plt.show()"
   ]
  },
  {
   "cell_type": "markdown",
   "id": "79540c33-6981-440e-9f39-78680c31091a",
   "metadata": {},
   "source": [
    "Now let's distinguish between TV and Films to see if there is a distinction in usage."
   ]
  },
  {
   "cell_type": "code",
   "execution_count": null,
   "id": "c4967b9b-f3f4-4a05-b975-b21eb09f0de1",
   "metadata": {},
   "outputs": [],
   "source": [
    "film_tv_per_trope = pd.DataFrame()\n",
    "film_tv_per_trope['trope'] = tropes_to_media_ids.keys()\n",
    "film_counts = list()\n",
    "tv_counts = list()\n",
    "# Iterate through all tropes\n",
    "for trope in film_tv_per_trope['trope']:\n",
    "    film_count = 0\n",
    "    tv_count = 0\n",
    "    # Iterate through all usages of that trope\n",
    "    for id_ in tropes_to_media_ids[trope]:\n",
    "        # If using media is a film, increment film_count\n",
    "        if id_ in film_ids:\n",
    "            film_count += 1\n",
    "        # if not a film, increment tv count\n",
    "        else:\n",
    "            tv_count += 1\n",
    "    film_counts.append(film_count)\n",
    "    tv_counts.append(tv_count)\n",
    "\n",
    "film_tv_per_trope['Film'] = film_counts\n",
    "film_tv_per_trope['TV'] = tv_counts"
   ]
  },
  {
   "cell_type": "markdown",
   "id": "85a05124-98c6-4a9a-8831-4294bb26b614",
   "metadata": {},
   "source": [
    "Let's look at the most popular tropes in film and tv to annotate our graph."
   ]
  },
  {
   "cell_type": "code",
   "execution_count": null,
   "id": "38f7c9eb-218e-4f07-b755-5225e96510bb",
   "metadata": {},
   "outputs": [],
   "source": [
    "popular_tv_tropes_filter = film_tv_per_trope['TV'] > 300\n",
    "popular_movie_tropes_filter = film_tv_per_trope['Film'] > 700\n",
    "popular_tropes = film_tv_per_trope[popular_movie_tropes_filter | popular_tv_tropes_filter]\n",
    "popular_tropes"
   ]
  },
  {
   "cell_type": "code",
   "execution_count": null,
   "id": "8829ba97-7e6f-4ee9-a78a-960c998c9a77",
   "metadata": {},
   "outputs": [],
   "source": [
    "plt.figure(figsize=(16,10))\n",
    "ax = sns.histplot(data = film_tv_per_trope, x=\"Film\", y=\"TV\", bins=50, cbar=True)\n",
    "plt.title('Bivariate Histogram of the Number of TV Shows and Movies Using Each Trope')\n",
    "\n",
    "# Annotations\n",
    "# Horror Films\n",
    "ax.text(popular_tropes.iloc[0,1]-15, popular_tropes.iloc[0,2]+15, popular_tropes.iloc[0,0])\n",
    "# Shout Out\n",
    "ax.text(popular_tropes.iloc[1,1]-50, popular_tropes.iloc[1,2]+10, popular_tropes.iloc[1,0])\n",
    "# Retroactive Recognition\n",
    "ax.text(popular_tropes.iloc[2,1]-50, popular_tropes.iloc[2,2]+10, popular_tropes.iloc[2,0])\n",
    "# Oh Crap\n",
    "ax.text(popular_tropes.iloc[3,1]-15, popular_tropes.iloc[3,2]+25, popular_tropes.iloc[3,0])\n",
    "# Chekhov's Gun\n",
    "ax.text(popular_tropes.iloc[4,1]-15, popular_tropes.iloc[4,2]+15, popular_tropes.iloc[4,0])\n",
    "# Films of the\n",
    "ax.text(popular_tropes.iloc[5,1]-15, popular_tropes.iloc[5,2]+10, popular_tropes.iloc[5,0])\n",
    "# British Series\n",
    "ax.text(popular_tropes.iloc[6,1]-15, popular_tropes.iloc[6,2]+10, popular_tropes.iloc[6,0])\n",
    "# Short Runners\n",
    "ax.text(popular_tropes.iloc[7,1]-15, popular_tropes.iloc[7,2]+20, popular_tropes.iloc[7,0])\n",
    "# Short Runner\n",
    "ax.text(popular_tropes.iloc[8,1]-15, popular_tropes.iloc[8,2]+10, popular_tropes.iloc[8,0])\n",
    "\n",
    "plt.show()"
   ]
  },
  {
   "cell_type": "markdown",
   "id": "033c7c0c-ae8e-4ccd-b2f7-08bfc3f792ec",
   "metadata": {},
   "source": [
    "## Tropes per Media\n",
    "For each piece of content, how many tropes does it use?"
   ]
  },
  {
   "cell_type": "code",
   "execution_count": null,
   "id": "56f2a104-b045-452c-9331-125e48747921",
   "metadata": {},
   "outputs": [],
   "source": [
    "tropes_per_media = pd.DataFrame()\n",
    "tropes_per_media['media'] = media_ids_to_tropes.keys()\n",
    "counts = []\n",
    "for id_ in tropes_per_media['media']:\n",
    "    counts.append(len(media_ids_to_tropes[id_]))\n",
    "tropes_per_media['Number of Tropes Used in Media'] = counts"
   ]
  },
  {
   "cell_type": "code",
   "execution_count": null,
   "id": "ecf36faf-3315-441c-b61b-5fd1e46fdc41",
   "metadata": {},
   "outputs": [],
   "source": [
    "plt.figure()\n",
    "sns.histplot(data = tropes_per_media, x=\"Number of Tropes Used in Media\", log_scale=True)\n",
    "plt.show()"
   ]
  },
  {
   "cell_type": "markdown",
   "id": "c4e08e0f-0002-49ac-82f3-2f0a8ef3c26c",
   "metadata": {},
   "source": [
    "Now let's see if there are any trends in the quantity of tropes in media based on whether it is a TV show or a film."
   ]
  },
  {
   "cell_type": "code",
   "execution_count": null,
   "id": "0697b264-b900-495b-adb4-7d15d6aadbd7",
   "metadata": {},
   "outputs": [],
   "source": [
    "film_vs_tv = list()\n",
    "for id_ in tropes_per_media['media']:\n",
    "    if id_ in film_ids:\n",
    "        film_vs_tv.append('Film')\n",
    "    else:\n",
    "        film_vs_tv.append('TV')\n",
    "tropes_per_media['Film vs TV'] = film_vs_tv"
   ]
  },
  {
   "cell_type": "markdown",
   "id": "15cc065e-4074-489c-b350-e3fcacbde541",
   "metadata": {},
   "source": [
    "Now let's grab the most trope-rich contents and sort them for an annotation."
   ]
  },
  {
   "cell_type": "code",
   "execution_count": null,
   "id": "5ac89880-99bc-469f-ae1c-181bc4652c81",
   "metadata": {},
   "outputs": [],
   "source": [
    "popular_tropes_per_media_filter = tropes_per_media['Number of Tropes Used in Media'] > 1500\n",
    "popular_tropes_per_media = tropes_per_media[popular_tropes_per_media_filter]\n",
    "names = []\n",
    "for id_ in popular_tropes_per_media['media']:\n",
    "    names.append(access.get_media_name(id_))\n",
    "popular_tropes_per_media['Title'] = names\n",
    "sorted_popular_tropes_per_media = popular_tropes_per_media.sort_values('Number of Tropes Used in Media', ascending=False)\n",
    "sptpm = sorted_popular_tropes_per_media.reset_index()[['Number of Tropes Used in Media', 'Title']]\n",
    "sptpm"
   ]
  },
  {
   "cell_type": "code",
   "execution_count": null,
   "id": "f6078f53-be44-42b8-8cfe-af826b8ddcdd",
   "metadata": {},
   "outputs": [],
   "source": [
    "plt.figure(figsize=(14,8))\n",
    "ax = sns.histplot(data = tropes_per_media, x=\"Number of Tropes Used in Media\", hue=\"Film vs TV\", multiple=\"dodge\", log_scale=True)\n",
    "plt.title('Histogram of the Number of Tropes Used by TV and Movies')\n",
    "\n",
    "ax.text(400, 1100, \"Top 12 Trope-rich Media\")\n",
    "for i in range(12):\n",
    "    ax.text(150, 1000-50*i, \"{} - {}\".format(sptpm.iloc[i,0], sptpm.iloc[i,1]))\n",
    "\n",
    "ax.axvline(x = 1500, ymin = 0, ymax = .05, linestyle='dashed', color='red')\n",
    "\n",
    "plt.show()"
   ]
  },
  {
   "cell_type": "markdown",
   "id": "4af6b46a-b619-4b87-9511-48020db4f9d6",
   "metadata": {},
   "source": [
    "# Visualization of Recommendation\n",
    "Given a recommendation grouping, does the K-means cluster provide any human intelligible benefit? Should we include the cluster graph in the user interface?"
   ]
  },
  {
   "cell_type": "code",
   "execution_count": null,
   "id": "21946a00-629b-4273-8526-1254809ee705",
   "metadata": {},
   "outputs": [],
   "source": [
    "# Manually go through recommendation steps, first candidate retrieval\n",
    "original_ids, candidates = recommend.find_candidates(['The Wiggles Movie (1997)'], ['Trust Password'])"
   ]
  },
  {
   "cell_type": "code",
   "execution_count": null,
   "id": "dcad473d-e0ac-41ba-a5e0-904036da512f",
   "metadata": {},
   "outputs": [],
   "source": [
    "the_wiggles = recommend.find_candidate_expanded_tags(candidates)"
   ]
  },
  {
   "cell_type": "code",
   "execution_count": null,
   "id": "3cb7476e-cdb0-465e-8d09-f9da9748dec3",
   "metadata": {},
   "outputs": [],
   "source": [
    "# Initialize visualization\n",
    "tsne = TSNE(n_components = 2, metric='manhattan', init='pca', verbose=1)\n",
    "\n",
    "tsne_data = tsne.fit_transform(the_wiggles)"
   ]
  },
  {
   "cell_type": "code",
   "execution_count": null,
   "id": "3ba245d2-08e6-445e-9eb5-61f54464ac61",
   "metadata": {},
   "outputs": [],
   "source": [
    "plt.figure(figsize=(16,12))\n",
    "plt.scatter(tsne_data[:,0],tsne_data[:,1])\n",
    "plt.title(\"tsne in 2-dims on all Content-Trope data\")\n",
    "plt.show()"
   ]
  },
  {
   "cell_type": "code",
   "execution_count": null,
   "id": "b1f87b73-4f33-4cda-a639-1dddb46a6aed",
   "metadata": {},
   "outputs": [],
   "source": [
    "# Initialize Clustering\n",
    "kmeans = KMeans(n_clusters=4)\n",
    "\n",
    "# Fit\n",
    "kmeans.fit(the_wiggles)\n",
    "\n",
    "# Predict\n",
    "cluster_labels = kmeans.predict(the_wiggles)\n",
    "\n",
    "# Centers\n",
    "centers = kmeans.cluster_centers_"
   ]
  },
  {
   "cell_type": "code",
   "execution_count": null,
   "id": "ab522f06-d51f-4e50-ad33-c5809a997501",
   "metadata": {},
   "outputs": [],
   "source": [
    "# Visualize clustering\n",
    "plt.figure(figsize=(16,12))\n",
    "plt.scatter(tsne_data[:,0],tsne_data[:,1],c=cluster_labels)\n",
    "plt.title(\"Clusters in 2-dims on all Content-Trope data\")\n",
    "plt.show()"
   ]
  },
  {
   "cell_type": "markdown",
   "id": "00b43367-d053-4d7f-b2e1-3b3be69bf62b",
   "metadata": {},
   "source": [
    "I don't see any benefit for including this in the user interface."
   ]
  }
 ],
 "metadata": {
  "kernelspec": {
   "display_name": "skateboard",
   "language": "python",
   "name": "skateboard"
  },
  "language_info": {
   "codemirror_mode": {
    "name": "ipython",
    "version": 3
   },
   "file_extension": ".py",
   "mimetype": "text/x-python",
   "name": "python",
   "nbconvert_exporter": "python",
   "pygments_lexer": "ipython3",
   "version": "3.9.7"
  }
 },
 "nbformat": 4,
 "nbformat_minor": 5
}
